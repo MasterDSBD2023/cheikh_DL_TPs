{
 "cells": [
  {
   "cell_type": "code",
   "execution_count": 1,
   "metadata": {
    "colab": {},
    "colab_type": "code",
    "id": "v3o6mEbK6W9v"
   },
   "outputs": [],
   "source": [
    "# Import main libraries necessary for this project\n",
    "import numpy as np\n",
    "import pandas as pd\n",
    "#from IPython.display import display # Allows the use of display() for DataFrames\n",
    "\n",
    "# Import libraries needed for reading image and processing it\n",
    "import csv\n",
    "from PIL import Image\n",
    "from scipy.ndimage import rotate\n",
    "\n",
    "# Pretty display for notebooks\n",
    "%matplotlib inline"
   ]
  },
  {
   "cell_type": "markdown",
   "metadata": {},
   "source": [
    "We will use these datasets : \n",
    "\n",
    "https://www.kaggle.com/datasets/mloey1/ahdd1\n",
    "\n",
    "https://www.kaggle.com/datasets/mloey1/ahcd1"
   ]
  },
  {
   "cell_type": "markdown",
   "metadata": {
    "colab_type": "text",
    "id": "m6_ru2oupR7h"
   },
   "source": [
    "# I. Data Exploration"
   ]
  },
  {
   "cell_type": "markdown",
   "metadata": {
    "colab_type": "text",
    "id": "rGcWZ2BBrLrr"
   },
   "source": [
    "### 1. Loading Arabic Letters Dataset"
   ]
  },
  {
   "cell_type": "code",
   "execution_count": 2,
   "metadata": {
    "colab": {
     "base_uri": "https://localhost:8080/",
     "height": 287
    },
    "colab_type": "code",
    "id": "1MRwVjsDKpCN",
    "outputId": "ed64137f-e2f9-4908-b8ea-2b227519ce17"
   },
   "outputs": [
    {
     "name": "stdout",
     "output_type": "stream",
     "text": [
      "There are 13440 training arabic letter images of 64x64 pixels.\n",
      "There are 3360 testing arabic letter images of 64x64 pixels.\n"
     ]
    }
   ],
   "source": [
    "# Training letters images and labels files\n",
    "letters_training_images_file_path = \"Arabic Handwritten Characters Dataset CSV/training images.zip\"\n",
    "letters_training_labels_file_path = \"Arabic Handwritten Characters Dataset CSV/training labels.zip\"\n",
    "# Testing letters images and labels files\n",
    "letters_testing_images_file_path = \"Arabic Handwritten Characters Dataset CSV/testing images.zip\"\n",
    "letters_testing_labels_file_path = \"Arabic Handwritten Characters Dataset CSV/testing labels.zip\"\n",
    "\n",
    "# Loading dataset into dataframes\n",
    "training_letters_images = pd.read_csv(letters_training_images_file_path, compression='zip', header=None)\n",
    "training_letters_labels = pd.read_csv(letters_training_labels_file_path, compression='zip', header=None)\n",
    "testing_letters_images = pd.read_csv(letters_testing_images_file_path, compression='zip', header=None)\n",
    "testing_letters_labels = pd.read_csv(letters_testing_labels_file_path, compression='zip', header=None)\n",
    "\n",
    "# print statistics about the dataset\n",
    "print(\"There are %d training arabic letter images of 64x64 pixels.\" %training_letters_images.shape[0])\n",
    "print(\"There are %d testing arabic letter images of 64x64 pixels.\" %testing_letters_images.shape[0])\n",
    "#training_letters_images.head()"
   ]
  },
  {
   "cell_type": "markdown",
   "metadata": {
    "colab_type": "text",
    "id": "KuPNRawns2BV"
   },
   "source": [
    "### 2. Loading Arabic Digits Dataset"
   ]
  },
  {
   "cell_type": "code",
   "execution_count": 3,
   "metadata": {
    "colab": {
     "base_uri": "https://localhost:8080/",
     "height": 51
    },
    "colab_type": "code",
    "id": "Zyoid-WpLjXT",
    "outputId": "504deeac-a270-4927-b4c6-34ff7d9304c9"
   },
   "outputs": [
    {
     "name": "stdout",
     "output_type": "stream",
     "text": [
      "There are 60000 training arabic digit images of 64x64 pixels.\n",
      "There are 10000 testing arabic digit images of 64x64 pixels.\n"
     ]
    }
   ],
   "source": [
    "# Training digits images and labels files\n",
    "digits_training_images_file_path = \"Arabic Handwritten Digits Dataset CSV/training images.zip\"\n",
    "digits_training_labels_file_path = \"Arabic Handwritten Digits Dataset CSV/training labels.zip\"\n",
    "# Testing digits images and labels files\n",
    "digits_testing_images_file_path = \"Arabic Handwritten Digits Dataset CSV/testing images.zip\"\n",
    "digits_testing_labels_file_path = \"Arabic Handwritten Digits Dataset CSV/testing labels.zip\"\n",
    "\n",
    "# Loading dataset into dataframes\n",
    "training_digits_images = pd.read_csv(digits_training_images_file_path, compression='zip', header=None)\n",
    "training_digits_labels = pd.read_csv(digits_training_labels_file_path, compression='zip', header=None)\n",
    "testing_digits_images = pd.read_csv(digits_testing_images_file_path, compression='zip', header=None)\n",
    "testing_digits_labels = pd.read_csv(digits_testing_labels_file_path, compression='zip', header=None)\n",
    "\n",
    "# print statistics about the dataset\n",
    "print(\"There are %d training arabic digit images of 64x64 pixels.\" %training_digits_images.shape[0])\n",
    "print(\"There are %d testing arabic digit images of 64x64 pixels.\" %testing_digits_images.shape[0])"
   ]
  },
  {
   "cell_type": "markdown",
   "metadata": {
    "colab_type": "text",
    "id": "LGFth_ks0VH4"
   },
   "source": [
    "### 3. Convert csv values to an image \n",
    "Writting a method to be used later if we want visualization of an image from its pixels values."
   ]
  },
  {
   "cell_type": "code",
   "execution_count": 4,
   "metadata": {
    "colab": {},
    "colab_type": "code",
    "id": "2MbTUT_mMBGH"
   },
   "outputs": [],
   "source": [
    "def convert_values_to_image(image_values, display=False):\n",
    "    image_array = np.asarray(image_values)\n",
    "    image_array = image_array.reshape(64, 64).astype('uint8')\n",
    "    # The original dataset is reflected so we will flip it then rotate for a better view only.\n",
    "    image_array = np.flip(image_array, 0)\n",
    "    image_array = rotate(image_array, -90)\n",
    "    new_image = Image.fromarray(image_array)\n",
    "    if display == True:\n",
    "        new_image.show()\n",
    "    return new_image"
   ]
  },
  {
   "cell_type": "markdown",
   "metadata": {
    "colab_type": "text",
    "id": "MBwu1eDk0mjj"
   },
   "source": [
    "### 4. Visualizing some examples"
   ]
  },
  {
   "cell_type": "code",
   "execution_count": 5,
   "metadata": {
    "colab": {
     "base_uri": "https://localhost:8080/",
     "height": 81
    },
    "colab_type": "code",
    "id": "pX4PxwqbyQg8",
    "outputId": "6433de79-c1f7-4c09-afc5-e17b782b8cc4"
   },
   "outputs": [
    {
     "data": {
      "image/png": "[encoded data removed]",
      "text/plain": [
       "<PIL.Image.Image image mode=L size=64x64 at 0x259084EAF10>"
      ]
     },
     "execution_count": 5,
     "metadata": {},
     "output_type": "execute_result"
    }
   ],
   "source": [
    "convert_values_to_image(training_letters_images.loc[0], True)"
   ]
  },
  {
   "cell_type": "code",
   "execution_count": 6,
   "metadata": {
    "colab": {
     "base_uri": "https://localhost:8080/",
     "height": 81
    },
    "colab_type": "code",
    "id": "R0J_oTy0yeXb",
    "outputId": "77ab78b1-95e9-4c4e-dfcb-0a2dbbc9ab4e"
   },
   "outputs": [
    {
     "data": {
      "image/png": "[encoded data removed]",
      "text/plain": [
       "<PIL.Image.Image image mode=L size=64x64 at 0x259084EAC40>"
      ]
     },
     "execution_count": 6,
     "metadata": {},
     "output_type": "execute_result"
    }
   ],
   "source": [
    "convert_values_to_image(training_letters_images.loc[12], True)"
   ]
  },
  {
   "cell_type": "code",
   "execution_count": 7,
   "metadata": {
    "colab": {
     "base_uri": "https://localhost:8080/",
     "height": 81
    },
    "colab_type": "code",
    "id": "IVwNBEIj2dcK",
    "outputId": "1d587abd-eee0-4c3d-c3bb-2ebf64c188b1"
   },
   "outputs": [
    {
     "data": {
      "image/png": "[encoded data removed]",
      "text/plain": [
       "<PIL.Image.Image image mode=L size=64x64 at 0x2590502C430>"
      ]
     },
     "execution_count": 7,
     "metadata": {},
     "output_type": "execute_result"
    }
   ],
   "source": [
    "convert_values_to_image(training_letters_images.loc[37], True)"
   ]
  },
  {
   "cell_type": "code",
   "execution_count": 8,
   "metadata": {
    "colab": {
     "base_uri": "https://localhost:8080/",
     "height": 81
    },
    "colab_type": "code",
    "id": "pNKxXW5-2fl9",
    "outputId": "d94f24dd-9059-48eb-f19e-b81cf97a5dc3"
   },
   "outputs": [
    {
     "data": {
      "image/png": "[encoded data removed]",
      "text/plain": [
       "<PIL.Image.Image image mode=L size=64x64 at 0x259084EAEE0>"
      ]
     },
     "execution_count": 8,
     "metadata": {},
     "output_type": "execute_result"
    }
   ],
   "source": [
    "convert_values_to_image(training_letters_images.loc[3000], True)"
   ]
  },
  {
   "cell_type": "code",
   "execution_count": 9,
   "metadata": {
    "colab": {
     "base_uri": "https://localhost:8080/",
     "height": 81
    },
    "colab_type": "code",
    "id": "FIYtePhT2iBr",
    "outputId": "d51afddf-7a83-4b04-c29f-a6ad3c1eb271"
   },
   "outputs": [
    {
     "data": {
      "image/png": "[encoded data removed]",
      "text/plain": [
       "<PIL.Image.Image image mode=L size=64x64 at 0x2590501A100>"
      ]
     },
     "execution_count": 9,
     "metadata": {},
     "output_type": "execute_result"
    }
   ],
   "source": [
    "convert_values_to_image(training_digits_images.loc[0], True)"
   ]
  },
  {
   "cell_type": "code",
   "execution_count": 10,
   "metadata": {
    "colab": {
     "base_uri": "https://localhost:8080/",
     "height": 81
    },
    "colab_type": "code",
    "id": "zdnSlqNxYB_H",
    "outputId": "db1dd27a-fefe-4ec2-bf3e-ffa57066541e"
   },
   "outputs": [
    {
     "data": {
      "image/png": "[encoded data removed]",
      "text/plain": [
       "<PIL.Image.Image image mode=L size=64x64 at 0x2590502C160>"
      ]
     },
     "execution_count": 10,
     "metadata": {},
     "output_type": "execute_result"
    }
   ],
   "source": [
    "convert_values_to_image(training_digits_images.loc[2], True)"
   ]
  },
  {
   "cell_type": "code",
   "execution_count": 11,
   "metadata": {
    "colab": {
     "base_uri": "https://localhost:8080/",
     "height": 81
    },
    "colab_type": "code",
    "id": "hlSt-2_2i8O1",
    "outputId": "464c57e0-2b7a-4c4d-f2df-aab1a0dbb5a5"
   },
   "outputs": [
    {
     "data": {
      "image/png": "[encoded data removed]",
      "text/plain": [
       "<PIL.Image.Image image mode=L size=64x64 at 0x259084EAB80>"
      ]
     },
     "execution_count": 11,
     "metadata": {},
     "output_type": "execute_result"
    }
   ],
   "source": [
    "convert_values_to_image(training_digits_images.loc[7], True)"
   ]
  },
  {
   "cell_type": "code",
   "execution_count": 12,
   "metadata": {
    "colab": {
     "base_uri": "https://localhost:8080/",
     "height": 81
    },
    "colab_type": "code",
    "id": "xsucycIri9ht",
    "outputId": "714e35f7-37a0-408e-c0d6-1bba94836e82"
   },
   "outputs": [
    {
     "data": {
      "image/png": "[encoded data removed]",
      "text/plain": [
       "<PIL.Image.Image image mode=L size=64x64 at 0x259080FCB20>"
      ]
     },
     "execution_count": 12,
     "metadata": {},
     "output_type": "execute_result"
    }
   ],
   "source": [
    "convert_values_to_image(training_digits_images.loc[9], True)"
   ]
  },
  {
   "cell_type": "markdown",
   "metadata": {
    "colab_type": "text",
    "id": "ZZT4fEuLoLXw"
   },
   "source": [
    "# II. Data Preprocessing"
   ]
  },
  {
   "cell_type": "markdown",
   "metadata": {
    "colab_type": "text",
    "id": "TZH8hpO_qgem"
   },
   "source": [
    "### 1. Image Normalization\n",
    "We rescale the images by dividing every pixel in the image by 255 to make them into range [0, 1]"
   ]
  },
  {
   "cell_type": "code",
   "execution_count": 13,
   "metadata": {
    "colab": {},
    "colab_type": "code",
    "id": "1HJI0WG0oNmT"
   },
   "outputs": [],
   "source": [
    "training_digits_images_scaled = training_digits_images.values.astype('float32')/255\n",
    "training_digits_labels = training_digits_labels.values.astype('int32')\n",
    "testing_digits_images_scaled = testing_digits_images.values.astype('float32')/255\n",
    "testing_digits_labels = testing_digits_labels.values.astype('int32')\n",
    "\n",
    "training_letters_images_scaled = training_letters_images.values.astype('float32')/255\n",
    "training_letters_labels = training_letters_labels.values.astype('int32')\n",
    "testing_letters_images_scaled = testing_letters_images.values.astype('float32')/255\n",
    "testing_letters_labels = testing_letters_labels.values.astype('int32')"
   ]
  },
  {
   "cell_type": "code",
   "execution_count": 14,
   "metadata": {
    "colab": {
     "base_uri": "https://localhost:8080/",
     "height": 136
    },
    "colab_type": "code",
    "collapsed": true,
    "id": "4GtF5Gc4sGsv",
    "outputId": "5f730686-de88-47dc-a308-2618ddcdd152"
   },
   "outputs": [
    {
     "name": "stdout",
     "output_type": "stream",
     "text": [
      "Training images of digits after scaling\n",
      "(60000, 4096)\n"
     ]
    },
    {
     "data": {
      "text/plain": [
       "array([[0., 0., 0., ..., 0., 0., 0.],\n",
       "       [0., 0., 0., ..., 0., 0., 0.],\n",
       "       [0., 0., 0., ..., 0., 0., 0.],\n",
       "       [0., 0., 0., ..., 0., 0., 0.],\n",
       "       [0., 0., 0., ..., 0., 0., 0.]], dtype=float32)"
      ]
     },
     "execution_count": 14,
     "metadata": {},
     "output_type": "execute_result"
    }
   ],
   "source": [
    "print(\"Training images of digits after scaling\")\n",
    "print(training_digits_images_scaled.shape)\n",
    "training_digits_images_scaled[0:5]"
   ]
  },
  {
   "cell_type": "code",
   "execution_count": 15,
   "metadata": {
    "colab": {
     "base_uri": "https://localhost:8080/",
     "height": 136
    },
    "colab_type": "code",
    "collapsed": true,
    "id": "n68sxKC0sTkq",
    "outputId": "15a162f4-6ba7-4b01-d8b5-81c4e2eced74"
   },
   "outputs": [
    {
     "name": "stdout",
     "output_type": "stream",
     "text": [
      "Training images of letters after scaling\n",
      "(13440, 4096)\n"
     ]
    },
    {
     "data": {
      "text/plain": [
       "array([[0., 0., 0., ..., 0., 0., 0.],\n",
       "       [0., 0., 0., ..., 0., 0., 0.],\n",
       "       [0., 0., 0., ..., 0., 0., 0.],\n",
       "       [0., 0., 0., ..., 0., 0., 0.],\n",
       "       [0., 0., 0., ..., 0., 0., 0.]], dtype=float32)"
      ]
     },
     "execution_count": 15,
     "metadata": {},
     "output_type": "execute_result"
    }
   ],
   "source": [
    "print(\"Training images of letters after scaling\")\n",
    "print(training_letters_images_scaled.shape)\n",
    "training_letters_images_scaled[0:5]"
   ]
  },
  {
   "cell_type": "markdown",
   "metadata": {
    "colab_type": "text",
    "id": "T-X1SJjnsq8b"
   },
   "source": [
    "### 2. Encoding Categorical Labels\n",
    "From the labels csv files we can see that labels are categorical values and it is a multi-class classification problem. \n",
    "\n",
    "Our outputs are in the form of:\n",
    "* Digits from 0 to 9 have categories numbers from 0 to 9\n",
    "* Letters from ’أ’ to ’ي’ have categories numbers from 10 to 37\n",
    "\n",
    "**Here we will encode these categories values using One Hot Encoding with keras.**"
   ]
  },
  {
   "cell_type": "code",
   "execution_count": 16,
   "metadata": {
    "colab": {
     "base_uri": "https://localhost:8080/",
     "height": 34
    },
    "colab_type": "code",
    "id": "uQyT17YzsU7U",
    "outputId": "bcc5de2e-c436-44f6-b987-f5d8d376a447"
   },
   "outputs": [],
   "source": [
    "from keras.utils import to_categorical\n",
    "\n",
    "# one hot encoding\n",
    "# number of classes = 10 (digits classes) + 28 (arabic alphabet classes)\n",
    "number_of_classes = 38\n",
    "training_letters_labels_encoded = to_categorical(training_letters_labels, num_classes=number_of_classes)\n",
    "testing_letters_labels_encoded = to_categorical(testing_letters_labels, num_classes=number_of_classes)\n",
    "training_digits_labels_encoded = to_categorical(training_digits_labels, num_classes=number_of_classes)\n",
    "testing_digits_labels_encoded = to_categorical(testing_digits_labels, num_classes=number_of_classes)"
   ]
  },
  {
   "cell_type": "code",
   "execution_count": 17,
   "metadata": {
    "colab": {
     "base_uri": "https://localhost:8080/",
     "height": 136
    },
    "colab_type": "code",
    "collapsed": true,
    "id": "9CyoYTDl1BXD",
    "outputId": "417bbbb9-04d4-4a7d-f61f-78c732d241b5"
   },
   "outputs": [
    {
     "name": "stdout",
     "output_type": "stream",
     "text": [
      "[[1. 0. 0. ... 0. 0. 0.]\n",
      " [0. 1. 0. ... 0. 0. 0.]\n",
      " [0. 0. 1. ... 0. 0. 0.]\n",
      " ...\n",
      " [0. 0. 0. ... 0. 0. 0.]\n",
      " [0. 0. 0. ... 0. 0. 0.]\n",
      " [0. 0. 0. ... 0. 0. 0.]]\n"
     ]
    }
   ],
   "source": [
    "print(training_digits_labels_encoded)"
   ]
  },
  {
   "cell_type": "markdown",
   "metadata": {
    "colab_type": "text",
    "id": "nsJzI6Gp5bbA"
   },
   "source": [
    "### 3. Reshaping Input Images to 64x64x1\n"
   ]
  },
  {
   "cell_type": "markdown",
   "metadata": {
    "colab_type": "text",
    "id": "VDldXMz76EQH"
   },
   "source": [
    "**we will reshape the input images to a 4D tensor with shape\n",
    "(nb_samples, 64, 64 ,1)** as we use grayscale images of 64x64 pixels."
   ]
  },
  {
   "cell_type": "code",
   "execution_count": 18,
   "metadata": {
    "colab": {
     "base_uri": "https://localhost:8080/",
     "height": 51
    },
    "colab_type": "code",
    "id": "EWTQ0nq85wWL",
    "outputId": "fae3559a-8abf-4888-dddf-1bafa65b7afc"
   },
   "outputs": [
    {
     "name": "stdout",
     "output_type": "stream",
     "text": [
      "(60000, 64, 64, 1) (60000, 38) (10000, 64, 64, 1) (10000, 38)\n",
      "(13440, 64, 64, 1) (13440, 38) (3360, 64, 64, 1) (3360, 38)\n"
     ]
    }
   ],
   "source": [
    "# reshape input digit images to 64x64x1\n",
    "training_digits_images_scaled = training_digits_images_scaled.reshape([-1, 64, 64, 1])\n",
    "testing_digits_images_scaled = testing_digits_images_scaled.reshape([-1, 64, 64, 1])\n",
    "\n",
    "# reshape input letter images to 64x64x1\n",
    "training_letters_images_scaled = training_letters_images_scaled.reshape([-1, 64, 64, 1])\n",
    "testing_letters_images_scaled = testing_letters_images_scaled.reshape([-1, 64, 64, 1])\n",
    "\n",
    "print(training_digits_images_scaled.shape, training_digits_labels_encoded.shape, testing_digits_images_scaled.shape, testing_digits_labels_encoded.shape)\n",
    "print(training_letters_images_scaled.shape, training_letters_labels_encoded.shape, testing_letters_images_scaled.shape, testing_letters_labels_encoded.shape)"
   ]
  },
  {
   "cell_type": "markdown",
   "metadata": {
    "colab_type": "text",
    "id": "Gtsr1vVaYS9D"
   },
   "source": [
    "### 3. Merging Letters and Digits Datasets"
   ]
  },
  {
   "cell_type": "code",
   "execution_count": 19,
   "metadata": {
    "colab": {
     "base_uri": "https://localhost:8080/",
     "height": 85
    },
    "colab_type": "code",
    "id": "1bdfCcFpYpA_",
    "outputId": "8d6b7393-2618-42d0-bee4-98b2e02a787e"
   },
   "outputs": [
    {
     "name": "stdout",
     "output_type": "stream",
     "text": [
      "Total Training images are 73440 images of shape\n",
      "(73440, 64, 64, 1) (73440, 38)\n",
      "Total Testing images are 13360 images of shape\n",
      "(13360, 64, 64, 1) (13360, 38)\n"
     ]
    }
   ],
   "source": [
    "training_data_images = np.concatenate((training_digits_images_scaled, training_letters_images_scaled), axis=0) \n",
    "training_data_labels = np.concatenate((training_digits_labels_encoded, training_letters_labels_encoded), axis=0)\n",
    "print(\"Total Training images are {} images of shape\".format(training_data_images.shape[0]))\n",
    "print(training_data_images.shape, training_data_labels.shape)\n",
    "\n",
    "testing_data_images = np.concatenate((testing_digits_images_scaled, testing_letters_images_scaled), axis=0) \n",
    "testing_data_labels = np.concatenate((testing_digits_labels_encoded, testing_letters_labels_encoded), axis=0)\n",
    "print(\"Total Testing images are {} images of shape\".format(testing_data_images.shape[0]))\n",
    "print(testing_data_images.shape, testing_data_labels.shape)"
   ]
  },
  {
   "cell_type": "markdown",
   "metadata": {},
   "source": [
    "# III. Implementation"
   ]
  },
  {
   "cell_type": "markdown",
   "metadata": {
    "colab_type": "text",
    "id": "bsZR7mb89UoI"
   },
   "source": [
    "### 1. Designing Model Architecture"
   ]
  },
  {
   "cell_type": "markdown",
   "metadata": {
    "colab_type": "text",
    "id": "7DImv-hIKSOf"
   },
   "source": [
    "Now we will make a method which creates the model architecture with the specified optimizer and activation functions."
   ]
  },
  {
   "cell_type": "code",
   "execution_count": 20,
   "metadata": {},
   "outputs": [],
   "source": [
    "import tensorflow as tf\n",
    "from tensorflow import keras"
   ]
  },
  {
   "cell_type": "code",
   "execution_count": 21,
   "metadata": {},
   "outputs": [],
   "source": [
    "from keras.models import Sequential\n",
    "from keras.layers import Conv2D, MaxPooling2D, GlobalAveragePooling2D, BatchNormalization, Dropout, Dense"
   ]
  },
  {
   "cell_type": "code",
   "execution_count": 22,
   "metadata": {
    "colab": {},
    "colab_type": "code",
    "id": "iHOTAM-w79Ak"
   },
   "outputs": [],
   "source": [
    "def create_model(optimizer='adam', kernel_initializer='he_normal', activation='relu'):\n",
    "    # create model\n",
    "    model = Sequential()\n",
    "    \n",
    "    model.add(Conv2D(filters=16, kernel_size=3, padding='same', input_shape=(64, 64, 1), kernel_initializer=kernel_initializer, activation=activation))\n",
    "    model.add(BatchNormalization())\n",
    "    model.add(MaxPooling2D(pool_size=2))\n",
    "    model.add(Dropout(0.2))\n",
    "    \n",
    "    model.add(Conv2D(filters=32, kernel_size=3, padding='same', kernel_initializer=kernel_initializer, activation=activation))\n",
    "    model.add(BatchNormalization())\n",
    "    model.add(MaxPooling2D(pool_size=2))\n",
    "    model.add(Dropout(0.2))\n",
    "    \n",
    "    model.add(Conv2D(filters=64, kernel_size=3, padding='same', kernel_initializer=kernel_initializer, activation=activation))\n",
    "    model.add(BatchNormalization())\n",
    "    model.add(MaxPooling2D(pool_size=2))\n",
    "    model.add(Dropout(0.2))\n",
    "    \n",
    "    model.add(Conv2D(filters=128, kernel_size=3, padding='same', kernel_initializer=kernel_initializer, activation=activation))\n",
    "    model.add(BatchNormalization())\n",
    "    model.add(MaxPooling2D(pool_size=2))\n",
    "    model.add(Dropout(0.2))\n",
    "    model.add(GlobalAveragePooling2D())\n",
    "    \n",
    "    #Fully connected final layer\n",
    "    model.add(Dense(38, activation='softmax'))\n",
    "    \n",
    "    # Compile model\n",
    "    model.compile(loss='categorical_crossentropy', metrics=['accuracy'], optimizer=optimizer)\n",
    "    return model"
   ]
  },
  {
   "cell_type": "markdown",
   "metadata": {
    "colab_type": "text",
    "id": "_GdoRPe6LiRV"
   },
   "source": [
    "### 2. Model Summary And Visualization"
   ]
  },
  {
   "cell_type": "markdown",
   "metadata": {
    "colab_type": "text",
    "id": "RLAADtoKMkcB"
   },
   "source": [
    "Let's see the model summary."
   ]
  },
  {
   "cell_type": "code",
   "execution_count": 23,
   "metadata": {
    "colab": {
     "base_uri": "https://localhost:8080/",
     "height": 765
    },
    "colab_type": "code",
    "collapsed": true,
    "id": "GzgiwjyPLmrp",
    "outputId": "5fa3a42f-9e06-4798-bbd2-38d5011e9547"
   },
   "outputs": [
    {
     "name": "stdout",
     "output_type": "stream",
     "text": [
      "Model: \"sequential\"\n",
      "_________________________________________________________________\n",
      " Layer (type)                Output Shape              Param #   \n",
      "=================================================================\n",
      " conv2d (Conv2D)             (None, 64, 64, 16)        160       \n",
      "                                                                 \n",
      " batch_normalization (BatchN  (None, 64, 64, 16)       64        \n",
      " ormalization)                                                   \n",
      "                                                                 \n",
      " max_pooling2d (MaxPooling2D  (None, 32, 32, 16)       0         \n",
      " )                                                               \n",
      "                                                                 \n",
      " dropout (Dropout)           (None, 32, 32, 16)        0         \n",
      "                                                                 \n",
      " conv2d_1 (Conv2D)           (None, 32, 32, 32)        4640      \n",
      "                                                                 \n",
      " batch_normalization_1 (Batc  (None, 32, 32, 32)       128       \n",
      " hNormalization)                                                 \n",
      "                                                                 \n",
      " max_pooling2d_1 (MaxPooling  (None, 16, 16, 32)       0         \n",
      " 2D)                                                             \n",
      "                                                                 \n",
      " dropout_1 (Dropout)         (None, 16, 16, 32)        0         \n",
      "                                                                 \n",
      " conv2d_2 (Conv2D)           (None, 16, 16, 64)        18496     \n",
      "                                                                 \n",
      " batch_normalization_2 (Batc  (None, 16, 16, 64)       256       \n",
      " hNormalization)                                                 \n",
      "                                                                 \n",
      " max_pooling2d_2 (MaxPooling  (None, 8, 8, 64)         0         \n",
      " 2D)                                                             \n",
      "                                                                 \n",
      " dropout_2 (Dropout)         (None, 8, 8, 64)          0         \n",
      "                                                                 \n",
      " conv2d_3 (Conv2D)           (None, 8, 8, 128)         73856     \n",
      "                                                                 \n",
      " batch_normalization_3 (Batc  (None, 8, 8, 128)        512       \n",
      " hNormalization)                                                 \n",
      "                                                                 \n",
      " max_pooling2d_3 (MaxPooling  (None, 4, 4, 128)        0         \n",
      " 2D)                                                             \n",
      "                                                                 \n",
      " dropout_3 (Dropout)         (None, 4, 4, 128)         0         \n",
      "                                                                 \n",
      " global_average_pooling2d (G  (None, 128)              0         \n",
      " lobalAveragePooling2D)                                          \n",
      "                                                                 \n",
      " dense (Dense)               (None, 38)                4902      \n",
      "                                                                 \n",
      "=================================================================\n",
      "Total params: 103,014\n",
      "Trainable params: 102,534\n",
      "Non-trainable params: 480\n",
      "_________________________________________________________________\n"
     ]
    }
   ],
   "source": [
    "model = create_model()\n",
    "model.summary()"
   ]
  },
  {
   "cell_type": "markdown",
   "metadata": {
    "colab_type": "text",
    "id": "F-WXi7zkLxuN"
   },
   "source": [
    "Keras support plotting the model in keras.utils.vis_utils module which provides utility functions to plot a Keras model using graphviz.\n",
    "\n",
    "To be able to use that utility we should first install pydot and graphviz modules. This can be done by running the following code cell then restart the runtime environment."
   ]
  },
  {
   "cell_type": "code",
   "execution_count": 35,
   "metadata": {
    "colab": {},
    "colab_type": "code",
    "collapsed": true,
    "id": "uIL81Yib39V6"
   },
   "outputs": [
    {
     "name": "stdout",
     "output_type": "stream",
     "text": [
      "Requirement already satisfied: pydot in c:\\users\\baye2\\anaconda3\\lib\\site-packages (1.4.2)Note: you may need to restart the kernel to use updated packages.\n",
      "Requirement already satisfied: pyparsing>=2.1.4 in c:\\users\\baye2\\anaconda3\\lib\\site-packages (from pydot) (3.0.4)\n",
      "\n"
     ]
    }
   ],
   "source": [
    "#pip install pydot"
   ]
  },
  {
   "cell_type": "code",
   "execution_count": 36,
   "metadata": {
    "collapsed": true
   },
   "outputs": [
    {
     "name": "stdout",
     "output_type": "stream",
     "text": [
      "Requirement already satisfied: graphviz in c:\\users\\baye2\\anaconda3\\lib\\site-packages (0.20.1)\n",
      "Note: you may need to restart the kernel to use updated packages.\n"
     ]
    }
   ],
   "source": [
    "#pip install graphviz"
   ]
  },
  {
   "cell_type": "code",
   "execution_count": 26,
   "metadata": {
    "collapsed": true
   },
   "outputs": [
    {
     "name": "stdout",
     "output_type": "stream",
     "text": [
      "Collecting pydotplus\n",
      "  Downloading pydotplus-2.0.2.tar.gz (278 kB)\n",
      "Requirement already satisfied: pyparsing>=2.0.1 in c:\\users\\baye2\\anaconda3\\lib\\site-packages (from pydotplus) (3.0.4)\n",
      "Building wheels for collected packages: pydotplus\n",
      "  Building wheel for pydotplus (setup.py): started\n",
      "  Building wheel for pydotplus (setup.py): finished with status 'done'\n",
      "  Created wheel for pydotplus: filename=pydotplus-2.0.2-py3-none-any.whl size=24575 sha256=c7232cb4ecea4a2db4029c4aa63ac68c2c8e5cb9a6d3fc4bd9220d6e5461d43e\n",
      "  Stored in directory: c:\\users\\baye2\\appdata\\local\\pip\\cache\\wheels\\89\\e5\\de\\6966007cf223872eedfbebbe0e074534e72e9128c8fd4b55eb\n",
      "Successfully built pydotplus\n",
      "Installing collected packages: pydotplus\n",
      "Successfully installed pydotplus-2.0.2\n",
      "Note: you may need to restart the kernel to use updated packages.\n"
     ]
    }
   ],
   "source": [
    "#pip install pydotplus"
   ]
  },
  {
   "cell_type": "code",
   "execution_count": 28,
   "metadata": {
    "collapsed": true
   },
   "outputs": [
    {
     "name": "stdout",
     "output_type": "stream",
     "text": [
      "Collecting package metadata (current_repodata.json): ...working... done\n",
      "Solving environment: ...working... done\n",
      "\n",
      "## Package Plan ##\n",
      "\n",
      "  environment location: C:\\Users\\baye2\\anaconda3\n",
      "\n",
      "  added / updated specs:\n",
      "    - graphviz\n",
      "\n",
      "\n",
      "The following packages will be downloaded:\n",
      "\n",
      "    package                    |            build\n",
      "    ---------------------------|-----------------\n",
      "    cairo-1.16.0               |       he04af86_2         1.5 MB\n",
      "    conda-22.9.0               |   py39haa95532_0         888 KB\n",
      "    expat-2.4.9                |       h6c2663c_0         207 KB\n",
      "    fribidi-1.0.10             |       h62dcd97_0          63 KB\n",
      "    getopt-win32-0.1           |       h2bbff1b_0          19 KB\n",
      "    glib-2.69.1                |       h5dc1a3c_1         1.6 MB\n",
      "    graphite2-1.3.14           |       hd77b12b_1          91 KB\n",
      "    graphviz-2.50.0            |       hdb8b0d4_0         903 KB\n",
      "    gts-0.7.6                  |       h63ab5a1_3         181 KB\n",
      "    harfbuzz-4.3.0             |       hda2c7e1_0         676 KB\n",
      "    libffi-3.4.2               |       hd77b12b_4         107 KB\n",
      "    libgd-2.3.3                |       ha43c60c_1         314 KB\n",
      "    pango-1.50.7               |       h78c2152_0         279 KB\n",
      "    pcre-8.45                  |       hd77b12b_0         382 KB\n",
      "    pixman-0.40.0              |       h2bbff1b_1         402 KB\n",
      "    ------------------------------------------------------------\n",
      "                                           Total:         7.5 MB\n",
      "\n",
      "The following NEW packages will be INSTALLED:\n",
      "Note: you may need to restart the kernel to use updated packages.\n",
      "\n",
      "\n",
      "  cairo              pkgs/main/win-64::cairo-1.16.0-he04af86_2\n",
      "  expat              pkgs/main/win-64::expat-2.4.9-h6c2663c_0\n",
      "  fribidi            pkgs/main/win-64::fribidi-1.0.10-h62dcd97_0\n",
      "  getopt-win32       pkgs/main/win-64::getopt-win32-0.1-h2bbff1b_0\n",
      "  glib               pkgs/main/win-64::glib-2.69.1-h5dc1a3c_1\n",
      "  graphite2          pkgs/main/win-64::graphite2-1.3.14-hd77b12b_1\n",
      "  graphviz           pkgs/main/win-64::graphviz-2.50.0-hdb8b0d4_0\n",
      "  gts                pkgs/main/win-64::gts-0.7.6-h63ab5a1_3\n",
      "  harfbuzz           pkgs/main/win-64::harfbuzz-4.3.0-hda2c7e1_0\n",
      "  libffi             pkgs/main/win-64::libffi-3.4.2-hd77b12b_4\n",
      "  libgd              pkgs/main/win-64::libgd-2.3.3-ha43c60c_1\n",
      "  pango              pkgs/main/win-64::pango-1.50.7-h78c2152_0\n",
      "  pcre               pkgs/main/win-64::pcre-8.45-hd77b12b_0\n",
      "  pixman             pkgs/main/win-64::pixman-0.40.0-h2bbff1b_1\n",
      "\n",
      "The following packages will be UPDATED:\n",
      "\n",
      "  conda                               4.13.0-py39haa95532_0 --> 22.9.0-py39haa95532_0\n",
      "\n",
      "\n",
      "\n",
      "Downloading and Extracting Packages\n",
      "\n",
      "conda-22.9.0         | 888 KB    |            |   0% \n",
      "conda-22.9.0         | 888 KB    | 1          |   2% \n",
      "conda-22.9.0         | 888 KB    | 5          |   5% \n",
      "conda-22.9.0         | 888 KB    | #9         |  20% \n",
      "conda-22.9.0         | 888 KB    | ###4       |  34% \n",
      "conda-22.9.0         | 888 KB    | #####2     |  52% \n",
      "conda-22.9.0         | 888 KB    | ######3    |  63% \n",
      "conda-22.9.0         | 888 KB    | ########2  |  83% \n",
      "conda-22.9.0         | 888 KB    | #########5 |  95% \n",
      "conda-22.9.0         | 888 KB    | ########## | 100% \n",
      "\n",
      "pixman-0.40.0        | 402 KB    |            |   0% \n",
      "pixman-0.40.0        | 402 KB    | 7          |   8% \n",
      "pixman-0.40.0        | 402 KB    | ####3      |  44% \n",
      "pixman-0.40.0        | 402 KB    | #######5   |  76% \n",
      "pixman-0.40.0        | 402 KB    | ########## | 100% \n",
      "\n",
      "pango-1.50.7         | 279 KB    |            |   0% \n",
      "pango-1.50.7         | 279 KB    | #1         |  11% \n",
      "pango-1.50.7         | 279 KB    | ######3    |  63% \n",
      "pango-1.50.7         | 279 KB    | ########## | 100% \n",
      "pango-1.50.7         | 279 KB    | ########## | 100% \n",
      "\n",
      "cairo-1.16.0         | 1.5 MB    |            |   0% \n",
      "cairo-1.16.0         | 1.5 MB    | 1          |   1% \n",
      "cairo-1.16.0         | 1.5 MB    | #          |  10% \n",
      "cairo-1.16.0         | 1.5 MB    | #9         |  20% \n",
      "cairo-1.16.0         | 1.5 MB    | ##8        |  29% \n",
      "cairo-1.16.0         | 1.5 MB    | ###8       |  38% \n",
      "cairo-1.16.0         | 1.5 MB    | ####7      |  47% \n",
      "cairo-1.16.0         | 1.5 MB    | #####6     |  57% \n",
      "cairo-1.16.0         | 1.5 MB    | ######5    |  66% \n",
      "cairo-1.16.0         | 1.5 MB    | #######5   |  75% \n",
      "cairo-1.16.0         | 1.5 MB    | ########5  |  85% \n",
      "cairo-1.16.0         | 1.5 MB    | #########4 |  95% \n",
      "cairo-1.16.0         | 1.5 MB    | ########## | 100% \n",
      "\n",
      "expat-2.4.9          | 207 KB    |            |   0% \n",
      "expat-2.4.9          | 207 KB    | 7          |   8% \n",
      "expat-2.4.9          | 207 KB    | #######7   |  77% \n",
      "expat-2.4.9          | 207 KB    | ########## | 100% \n",
      "\n",
      "graphviz-2.50.0      | 903 KB    |            |   0% \n",
      "graphviz-2.50.0      | 903 KB    | 3          |   4% \n",
      "graphviz-2.50.0      | 903 KB    | #7         |  18% \n",
      "graphviz-2.50.0      | 903 KB    | ###3       |  34% \n",
      "graphviz-2.50.0      | 903 KB    | ####9      |  50% \n",
      "graphviz-2.50.0      | 903 KB    | #######6   |  76% \n",
      "graphviz-2.50.0      | 903 KB    | #########3 |  94% \n",
      "graphviz-2.50.0      | 903 KB    | ########## | 100% \n",
      "\n",
      "pcre-8.45            | 382 KB    |            |   0% \n",
      "pcre-8.45            | 382 KB    | 4          |   4% \n",
      "pcre-8.45            | 382 KB    | ####1      |  42% \n",
      "pcre-8.45            | 382 KB    | #######9   |  80% \n",
      "pcre-8.45            | 382 KB    | ########## | 100% \n",
      "\n",
      "libffi-3.4.2         | 107 KB    |            |   0% \n",
      "libffi-3.4.2         | 107 KB    | ##9        |  30% \n",
      "libffi-3.4.2         | 107 KB    | ########## | 100% \n",
      "libffi-3.4.2         | 107 KB    | ########## | 100% \n",
      "\n",
      "graphite2-1.3.14     | 91 KB     |            |   0% \n",
      "graphite2-1.3.14     | 91 KB     | #7         |  18% \n",
      "graphite2-1.3.14     | 91 KB     | ########## | 100% \n",
      "graphite2-1.3.14     | 91 KB     | ########## | 100% \n",
      "\n",
      "fribidi-1.0.10       | 63 KB     |            |   0% \n",
      "fribidi-1.0.10       | 63 KB     | #####      |  51% \n",
      "fribidi-1.0.10       | 63 KB     | ########## | 100% \n",
      "\n",
      "getopt-win32-0.1     | 19 KB     |            |   0% \n",
      "getopt-win32-0.1     | 19 KB     | ########## | 100% \n",
      "getopt-win32-0.1     | 19 KB     | ########## | 100% \n",
      "\n",
      "gts-0.7.6            | 181 KB    |            |   0% \n",
      "gts-0.7.6            | 181 KB    | 8          |   9% \n",
      "gts-0.7.6            | 181 KB    | #########7 |  97% \n",
      "gts-0.7.6            | 181 KB    | ########## | 100% \n",
      "\n",
      "glib-2.69.1          | 1.6 MB    |            |   0% \n",
      "glib-2.69.1          | 1.6 MB    | 1          |   2% \n",
      "glib-2.69.1          | 1.6 MB    | 8          |   9% \n",
      "glib-2.69.1          | 1.6 MB    | ##3        |  24% \n",
      "glib-2.69.1          | 1.6 MB    | ###2       |  33% \n",
      "glib-2.69.1          | 1.6 MB    | ####1      |  42% \n",
      "glib-2.69.1          | 1.6 MB    | #####6     |  56% \n",
      "glib-2.69.1          | 1.6 MB    | ######6    |  66% \n",
      "glib-2.69.1          | 1.6 MB    | #######5   |  75% \n",
      "glib-2.69.1          | 1.6 MB    | #########6 |  96% \n",
      "glib-2.69.1          | 1.6 MB    | ########## | 100% \n",
      "\n",
      "libgd-2.3.3          | 314 KB    |            |   0% \n",
      "libgd-2.3.3          | 314 KB    | 5          |   5% \n",
      "libgd-2.3.3          | 314 KB    | #####      |  51% \n",
      "libgd-2.3.3          | 314 KB    | ########1  |  81% \n",
      "libgd-2.3.3          | 314 KB    | ########## | 100% \n",
      "\n",
      "harfbuzz-4.3.0       | 676 KB    |            |   0% \n",
      "harfbuzz-4.3.0       | 676 KB    | 2          |   2% \n",
      "harfbuzz-4.3.0       | 676 KB    | ##3        |  24% \n",
      "harfbuzz-4.3.0       | 676 KB    | ####4      |  45% \n",
      "harfbuzz-4.3.0       | 676 KB    | ######1    |  61% \n",
      "harfbuzz-4.3.0       | 676 KB    | #########6 |  97% \n",
      "harfbuzz-4.3.0       | 676 KB    | ########## | 100% \n",
      "Preparing transaction: ...working... done\n",
      "Verifying transaction: ...working... done\n",
      "Executing transaction: ...working... done\n"
     ]
    }
   ],
   "source": [
    "#conda install graphviz"
   ]
  },
  {
   "cell_type": "code",
   "execution_count": 29,
   "metadata": {},
   "outputs": [],
   "source": [
    "import pydot"
   ]
  },
  {
   "cell_type": "markdown",
   "metadata": {
    "colab_type": "text",
    "id": "eyEMpJx3MttP"
   },
   "source": [
    "Now we can plot the model and save it to a file also."
   ]
  },
  {
   "cell_type": "code",
   "execution_count": 30,
   "metadata": {
    "collapsed": true
   },
   "outputs": [
    {
     "data": {
      "image/png": "[encoded data removed]",
      "text/plain": [
       "<IPython.core.display.Image object>"
      ]
     },
     "execution_count": 30,
     "metadata": {},
     "output_type": "execute_result"
    }
   ],
   "source": [
    "keras.utils.plot_model(model, show_shapes=True)"
   ]
  },
  {
   "cell_type": "markdown",
   "metadata": {
    "colab_type": "text",
    "id": "XKburGrWjUug"
   },
   "source": [
    "### 3. Parameters Tuning"
   ]
  },
  {
   "cell_type": "markdown",
   "metadata": {
    "colab_type": "text",
    "id": "Oz6ZOYT5jde-"
   },
   "source": [
    "We will tune the parameters optimizer, kernel_initializer and activation."
   ]
  },
  {
   "cell_type": "code",
   "execution_count": 33,
   "metadata": {
    "colab": {
     "base_uri": "https://localhost:8080/",
     "height": 34
    },
    "colab_type": "code",
    "id": "iqd8pUpo1vC3",
    "outputId": "e8b9bd6f-c30f-4325-e368-877abff2e31f"
   },
   "outputs": [
    {
     "name": "stdout",
     "output_type": "stream",
     "text": [
      "Number of different parameter combinations = 24\n"
     ]
    }
   ],
   "source": [
    "# fix random seed for reproducibility\n",
    "seed = 7\n",
    "np.random.seed(seed)\n",
    "\n",
    "# define the grid search parameters\n",
    "optimizer = ['RMSprop', 'Adam', 'Adagrad', 'Nadam']\n",
    "kernel_initializer = ['normal', 'uniform']\n",
    "activation = ['relu', 'linear', 'tanh']\n",
    "\n",
    "param_grid = dict(optimizer=optimizer, kernel_initializer=kernel_initializer, activation=activation)\n",
    "\n",
    "# count number of different parameters values combinations\n",
    "parameters_number = 1\n",
    "for x in param_grid:\n",
    "    parameters_number = parameters_number * len(param_grid[x]) \n",
    "print(\"Number of different parameter combinations = {}\".format(parameters_number))"
   ]
  },
  {
   "cell_type": "markdown",
   "metadata": {
    "colab_type": "text",
    "id": "rn5e1UWniPmD"
   },
   "source": [
    "We will try different models with different parameters to find the best parameter values."
   ]
  },
  {
   "cell_type": "code",
   "execution_count": 34,
   "metadata": {
    "colab": {
     "base_uri": "https://localhost:8080/",
     "height": 5341
    },
    "colab_type": "code",
    "collapsed": true,
    "id": "kbtGq865gbEW",
    "outputId": "628f25ba-bd1f-4101-f64b-00f07395a0e4"
   },
   "outputs": [
    {
     "name": "stdout",
     "output_type": "stream",
     "text": [
      "{'optimizer': 'RMSprop', 'kernel_initializer': 'normal', 'activation': 'relu'}\n",
      "Epoch 1/5\n",
      "3672/3672 [==============================] - 335s 91ms/step - loss: 0.3336 - accuracy: 0.9081 - val_loss: 0.1678 - val_accuracy: 0.9499\n",
      "Epoch 2/5\n",
      "3672/3672 [==============================] - 331s 90ms/step - loss: 0.1096 - accuracy: 0.9666 - val_loss: 5.5979 - val_accuracy: 0.2045\n",
      "Epoch 3/5\n",
      "3672/3672 [==============================] - 329s 90ms/step - loss: 0.0885 - accuracy: 0.9726 - val_loss: 0.1147 - val_accuracy: 0.9662\n",
      "Epoch 4/5\n",
      "3672/3672 [==============================] - 330s 90ms/step - loss: 0.0777 - accuracy: 0.9759 - val_loss: 0.0906 - val_accuracy: 0.9728\n",
      "Epoch 5/5\n",
      "3672/3672 [==============================] - 328s 89ms/step - loss: 0.0717 - accuracy: 0.9779 - val_loss: 0.1835 - val_accuracy: 0.9465\n",
      "=============================================================================\n",
      "{'optimizer': 'RMSprop', 'kernel_initializer': 'uniform', 'activation': 'relu'}\n",
      "Epoch 1/5\n",
      "3672/3672 [==============================] - 338s 92ms/step - loss: 0.3148 - accuracy: 0.9129 - val_loss: 1.0593 - val_accuracy: 0.7445\n",
      "Epoch 2/5\n",
      "3672/3672 [==============================] - 335s 91ms/step - loss: 0.1138 - accuracy: 0.9653 - val_loss: 0.2118 - val_accuracy: 0.9334\n",
      "Epoch 3/5\n",
      "3672/3672 [==============================] - 328s 89ms/step - loss: 0.0896 - accuracy: 0.9723 - val_loss: 0.1387 - val_accuracy: 0.9576\n",
      "Epoch 4/5\n",
      "3672/3672 [==============================] - 329s 90ms/step - loss: 0.0794 - accuracy: 0.9760 - val_loss: 0.1345 - val_accuracy: 0.9619\n",
      "Epoch 5/5\n",
      "3672/3672 [==============================] - 330s 90ms/step - loss: 0.0722 - accuracy: 0.9775 - val_loss: 0.3211 - val_accuracy: 0.8913\n",
      "=============================================================================\n",
      "{'optimizer': 'RMSprop', 'kernel_initializer': 'normal', 'activation': 'linear'}\n",
      "Epoch 1/5\n",
      "3672/3672 [==============================] - 332s 90ms/step - loss: 0.6142 - accuracy: 0.8298 - val_loss: 6.0539 - val_accuracy: 0.0653\n",
      "Epoch 2/5\n",
      "3672/3672 [==============================] - 326s 89ms/step - loss: 0.2747 - accuracy: 0.9170 - val_loss: 4.1442 - val_accuracy: 0.7254\n",
      "Epoch 3/5\n",
      "3672/3672 [==============================] - 328s 89ms/step - loss: 0.1991 - accuracy: 0.9395 - val_loss: 0.2011 - val_accuracy: 0.9368\n",
      "Epoch 4/5\n",
      "3672/3672 [==============================] - 326s 89ms/step - loss: 0.1599 - accuracy: 0.9501 - val_loss: 0.2482 - val_accuracy: 0.9262\n",
      "Epoch 5/5\n",
      "3672/3672 [==============================] - 328s 89ms/step - loss: 0.1433 - accuracy: 0.9550 - val_loss: 0.1582 - val_accuracy: 0.9464\n",
      "=============================================================================\n",
      "{'optimizer': 'RMSprop', 'kernel_initializer': 'uniform', 'activation': 'linear'}\n",
      "Epoch 1/5\n",
      "3672/3672 [==============================] - 332s 90ms/step - loss: 0.6023 - accuracy: 0.8338 - val_loss: 0.4367 - val_accuracy: 0.8634\n",
      "Epoch 2/5\n",
      "3672/3672 [==============================] - 323s 88ms/step - loss: 0.2782 - accuracy: 0.9160 - val_loss: 0.2583 - val_accuracy: 0.9248\n",
      "Epoch 3/5\n",
      "3672/3672 [==============================] - 317s 86ms/step - loss: 0.2011 - accuracy: 0.9399 - val_loss: 0.2549 - val_accuracy: 0.9228\n",
      "Epoch 4/5\n",
      "3672/3672 [==============================] - 282s 77ms/step - loss: 0.1665 - accuracy: 0.9493 - val_loss: 0.1806 - val_accuracy: 0.9415\n",
      "Epoch 5/5\n",
      "3672/3672 [==============================] - 217s 59ms/step - loss: 0.1474 - accuracy: 0.9548 - val_loss: 0.6046 - val_accuracy: 0.8292\n",
      "=============================================================================\n",
      "{'optimizer': 'RMSprop', 'kernel_initializer': 'normal', 'activation': 'tanh'}\n",
      "Epoch 1/5\n",
      "3672/3672 [==============================] - 238s 64ms/step - loss: 0.4957 - accuracy: 0.8671 - val_loss: 2.8439 - val_accuracy: 0.4877\n",
      "Epoch 2/5\n",
      "3672/3672 [==============================] - 250s 68ms/step - loss: 0.1944 - accuracy: 0.9400 - val_loss: 3.1558 - val_accuracy: 0.5088\n",
      "Epoch 3/5\n",
      "3672/3672 [==============================] - 239s 65ms/step - loss: 0.1600 - accuracy: 0.9512 - val_loss: 9.3294 - val_accuracy: 0.1743\n",
      "Epoch 4/5\n",
      "3672/3672 [==============================] - 223s 61ms/step - loss: 0.1451 - accuracy: 0.9555 - val_loss: 6.7993 - val_accuracy: 0.1975\n",
      "Epoch 5/5\n",
      "3672/3672 [==============================] - 231s 63ms/step - loss: 0.1333 - accuracy: 0.9587 - val_loss: 4.2139 - val_accuracy: 0.4082\n",
      "=============================================================================\n",
      "{'optimizer': 'RMSprop', 'kernel_initializer': 'uniform', 'activation': 'tanh'}\n",
      "Epoch 1/5\n",
      "3672/3672 [==============================] - 248s 67ms/step - loss: 0.4124 - accuracy: 0.8868 - val_loss: 13.2043 - val_accuracy: 0.2007\n",
      "Epoch 2/5\n",
      "3672/3672 [==============================] - 244s 66ms/step - loss: 0.1707 - accuracy: 0.9480 - val_loss: 1.3155 - val_accuracy: 0.7231\n",
      "Epoch 3/5\n",
      "3672/3672 [==============================] - 232s 63ms/step - loss: 0.1488 - accuracy: 0.9544 - val_loss: 13.8789 - val_accuracy: 0.3706\n",
      "Epoch 4/5\n",
      "3672/3672 [==============================] - 225s 61ms/step - loss: 0.1358 - accuracy: 0.9587 - val_loss: 1.1518 - val_accuracy: 0.7061\n",
      "Epoch 5/5\n",
      "3672/3672 [==============================] - 223s 61ms/step - loss: 0.1317 - accuracy: 0.9599 - val_loss: 0.6161 - val_accuracy: 0.8380\n",
      "=============================================================================\n",
      "{'optimizer': 'Adam', 'kernel_initializer': 'normal', 'activation': 'relu'}\n",
      "Epoch 1/5\n",
      "3672/3672 [==============================] - 217s 59ms/step - loss: 0.3657 - accuracy: 0.9024 - val_loss: 0.2111 - val_accuracy: 0.9363\n",
      "Epoch 2/5\n",
      "3672/3672 [==============================] - 215s 58ms/step - loss: 0.1041 - accuracy: 0.9686 - val_loss: 0.0888 - val_accuracy: 0.9751\n",
      "Epoch 3/5\n",
      "3672/3672 [==============================] - 217s 59ms/step - loss: 0.0801 - accuracy: 0.9755 - val_loss: 0.1395 - val_accuracy: 0.9604\n",
      "Epoch 4/5\n",
      "3672/3672 [==============================] - 218s 59ms/step - loss: 0.0691 - accuracy: 0.9785 - val_loss: 0.0838 - val_accuracy: 0.9752\n",
      "Epoch 5/5\n",
      "3672/3672 [==============================] - 219s 60ms/step - loss: 0.0614 - accuracy: 0.9811 - val_loss: 0.0741 - val_accuracy: 0.9778\n",
      "=============================================================================\n",
      "{'optimizer': 'Adam', 'kernel_initializer': 'uniform', 'activation': 'relu'}\n",
      "Epoch 1/5\n",
      "3672/3672 [==============================] - 222s 60ms/step - loss: 0.3336 - accuracy: 0.9114 - val_loss: 0.1333 - val_accuracy: 0.9597\n",
      "Epoch 2/5\n",
      "3672/3672 [==============================] - 217s 59ms/step - loss: 0.1048 - accuracy: 0.9684 - val_loss: 0.2240 - val_accuracy: 0.9337\n",
      "Epoch 3/5\n",
      "3672/3672 [==============================] - 218s 59ms/step - loss: 0.0813 - accuracy: 0.9749 - val_loss: 0.3719 - val_accuracy: 0.9081\n",
      "Epoch 4/5\n",
      "3672/3672 [==============================] - 217s 59ms/step - loss: 0.0677 - accuracy: 0.9788 - val_loss: 0.0928 - val_accuracy: 0.9747\n",
      "Epoch 5/5\n",
      "3672/3672 [==============================] - 217s 59ms/step - loss: 0.0614 - accuracy: 0.9808 - val_loss: 0.0654 - val_accuracy: 0.9799\n",
      "=============================================================================\n",
      "{'optimizer': 'Adam', 'kernel_initializer': 'normal', 'activation': 'linear'}\n",
      "Epoch 1/5\n",
      "3672/3672 [==============================] - 211s 57ms/step - loss: 0.6333 - accuracy: 0.8259 - val_loss: 5.5757 - val_accuracy: 0.7029\n",
      "Epoch 2/5\n",
      "3672/3672 [==============================] - 210s 57ms/step - loss: 0.2650 - accuracy: 0.9188 - val_loss: 6.5666 - val_accuracy: 0.1786\n",
      "Epoch 3/5\n",
      "3672/3672 [==============================] - 209s 57ms/step - loss: 0.1933 - accuracy: 0.9397 - val_loss: 0.7592 - val_accuracy: 0.7990\n",
      "Epoch 4/5\n",
      "3672/3672 [==============================] - 210s 57ms/step - loss: 0.1561 - accuracy: 0.9510 - val_loss: 0.3227 - val_accuracy: 0.9016\n",
      "Epoch 5/5\n",
      "3672/3672 [==============================] - 209s 57ms/step - loss: 0.1362 - accuracy: 0.9577 - val_loss: 0.3468 - val_accuracy: 0.8921\n",
      "=============================================================================\n",
      "{'optimizer': 'Adam', 'kernel_initializer': 'uniform', 'activation': 'linear'}\n",
      "Epoch 1/5\n",
      "3672/3672 [==============================] - 211s 57ms/step - loss: 0.5847 - accuracy: 0.8384 - val_loss: 2.4665 - val_accuracy: 0.6852\n"
     ]
    },
    {
     "name": "stdout",
     "output_type": "stream",
     "text": [
      "Epoch 2/5\n",
      "3672/3672 [==============================] - 213s 58ms/step - loss: 0.2539 - accuracy: 0.9221 - val_loss: 0.4741 - val_accuracy: 0.8507\n",
      "Epoch 3/5\n",
      "3672/3672 [==============================] - 215s 59ms/step - loss: 0.1856 - accuracy: 0.9428 - val_loss: 0.2621 - val_accuracy: 0.9112\n",
      "Epoch 4/5\n",
      "3672/3672 [==============================] - 213s 58ms/step - loss: 0.1519 - accuracy: 0.9528 - val_loss: 0.6575 - val_accuracy: 0.7971\n",
      "Epoch 5/5\n",
      "3672/3672 [==============================] - 214s 58ms/step - loss: 0.1320 - accuracy: 0.9579 - val_loss: 0.1186 - val_accuracy: 0.9618\n",
      "=============================================================================\n",
      "{'optimizer': 'Adam', 'kernel_initializer': 'normal', 'activation': 'tanh'}\n",
      "Epoch 1/5\n",
      "3672/3672 [==============================] - 234s 64ms/step - loss: 0.4860 - accuracy: 0.8710 - val_loss: 1.9315 - val_accuracy: 0.4841\n",
      "Epoch 2/5\n",
      "3672/3672 [==============================] - 233s 63ms/step - loss: 0.1778 - accuracy: 0.9450 - val_loss: 0.2011 - val_accuracy: 0.9341\n",
      "Epoch 3/5\n",
      "3672/3672 [==============================] - 236s 64ms/step - loss: 0.1449 - accuracy: 0.9548 - val_loss: 0.5541 - val_accuracy: 0.8594\n",
      "Epoch 4/5\n",
      "3672/3672 [==============================] - 232s 63ms/step - loss: 0.1313 - accuracy: 0.9584 - val_loss: 0.2020 - val_accuracy: 0.9350\n",
      "Epoch 5/5\n",
      "3672/3672 [==============================] - 228s 62ms/step - loss: 0.1204 - accuracy: 0.9618 - val_loss: 1.0765 - val_accuracy: 0.6527\n",
      "=============================================================================\n",
      "{'optimizer': 'Adam', 'kernel_initializer': 'uniform', 'activation': 'tanh'}\n",
      "Epoch 1/5\n",
      "3672/3672 [==============================] - 235s 63ms/step - loss: 0.4279 - accuracy: 0.8861 - val_loss: 4.7008 - val_accuracy: 0.2901\n",
      "Epoch 2/5\n",
      "3672/3672 [==============================] - 229s 62ms/step - loss: 0.1651 - accuracy: 0.9493 - val_loss: 0.4426 - val_accuracy: 0.8809\n",
      "Epoch 3/5\n",
      "3672/3672 [==============================] - 228s 62ms/step - loss: 0.1362 - accuracy: 0.9576 - val_loss: 0.1944 - val_accuracy: 0.9416\n",
      "Epoch 4/5\n",
      "3672/3672 [==============================] - 228s 62ms/step - loss: 0.1215 - accuracy: 0.9612 - val_loss: 0.3021 - val_accuracy: 0.9100\n",
      "Epoch 5/5\n",
      "3672/3672 [==============================] - 227s 62ms/step - loss: 0.1166 - accuracy: 0.9634 - val_loss: 0.5090 - val_accuracy: 0.8262\n",
      "=============================================================================\n",
      "{'optimizer': 'Adagrad', 'kernel_initializer': 'normal', 'activation': 'relu'}\n",
      "Epoch 1/5\n",
      "3672/3672 [==============================] - 219s 59ms/step - loss: 1.7010 - accuracy: 0.6112 - val_loss: 1.5741 - val_accuracy: 0.6161\n",
      "Epoch 2/5\n",
      "3672/3672 [==============================] - 217s 59ms/step - loss: 1.1426 - accuracy: 0.7523 - val_loss: 1.3549 - val_accuracy: 0.6746\n",
      "Epoch 3/5\n",
      "3672/3672 [==============================] - 217s 59ms/step - loss: 0.9702 - accuracy: 0.7780 - val_loss: 1.2811 - val_accuracy: 0.6941\n",
      "Epoch 4/5\n",
      "3672/3672 [==============================] - 216s 59ms/step - loss: 0.8748 - accuracy: 0.7915 - val_loss: 1.2082 - val_accuracy: 0.7042\n",
      "Epoch 5/5\n",
      "3672/3672 [==============================] - 216s 59ms/step - loss: 0.8088 - accuracy: 0.8016 - val_loss: 1.1377 - val_accuracy: 0.7140\n",
      "=============================================================================\n",
      "{'optimizer': 'Adagrad', 'kernel_initializer': 'uniform', 'activation': 'relu'}\n",
      "Epoch 1/5\n",
      "3672/3672 [==============================] - 217s 59ms/step - loss: 1.3756 - accuracy: 0.7040 - val_loss: 1.2215 - val_accuracy: 0.7006\n",
      "Epoch 2/5\n",
      "3672/3672 [==============================] - 216s 59ms/step - loss: 0.8710 - accuracy: 0.7952 - val_loss: 1.0136 - val_accuracy: 0.7342\n",
      "Epoch 3/5\n",
      "3672/3672 [==============================] - 215s 59ms/step - loss: 0.7375 - accuracy: 0.8176 - val_loss: 0.8665 - val_accuracy: 0.7618\n",
      "Epoch 4/5\n",
      "3672/3672 [==============================] - 215s 58ms/step - loss: 0.6583 - accuracy: 0.8369 - val_loss: 0.8148 - val_accuracy: 0.7747\n",
      "Epoch 5/5\n",
      "3672/3672 [==============================] - 215s 58ms/step - loss: 0.6037 - accuracy: 0.8516 - val_loss: 0.7965 - val_accuracy: 0.7775\n",
      "=============================================================================\n",
      "{'optimizer': 'Adagrad', 'kernel_initializer': 'normal', 'activation': 'linear'}\n",
      "Epoch 1/5\n",
      "3672/3672 [==============================] - 211s 57ms/step - loss: 2.1539 - accuracy: 0.4724 - val_loss: 2.0239 - val_accuracy: 0.5217\n",
      "Epoch 2/5\n",
      "3672/3672 [==============================] - 210s 57ms/step - loss: 1.5967 - accuracy: 0.6374 - val_loss: 1.6624 - val_accuracy: 0.6168\n",
      "Epoch 3/5\n",
      "3672/3672 [==============================] - 209s 57ms/step - loss: 1.3690 - accuracy: 0.6830 - val_loss: 1.4278 - val_accuracy: 0.6531\n",
      "Epoch 4/5\n",
      "3672/3672 [==============================] - 209s 57ms/step - loss: 1.2369 - accuracy: 0.7073 - val_loss: 1.3170 - val_accuracy: 0.6688\n",
      "Epoch 5/5\n",
      "3672/3672 [==============================] - 209s 57ms/step - loss: 1.1498 - accuracy: 0.7240 - val_loss: 1.2413 - val_accuracy: 0.6842\n",
      "=============================================================================\n",
      "{'optimizer': 'Adagrad', 'kernel_initializer': 'uniform', 'activation': 'linear'}\n",
      "Epoch 1/5\n",
      "3672/3672 [==============================] - 220s 60ms/step - loss: 1.8332 - accuracy: 0.5786 - val_loss: 1.6622 - val_accuracy: 0.5897\n",
      "Epoch 2/5\n",
      "3672/3672 [==============================] - 217s 59ms/step - loss: 1.3353 - accuracy: 0.6943 - val_loss: 1.5118 - val_accuracy: 0.6481\n",
      "Epoch 3/5\n",
      "3672/3672 [==============================] - 217s 59ms/step - loss: 1.1355 - accuracy: 0.7267 - val_loss: 1.3210 - val_accuracy: 0.6777\n",
      "Epoch 4/5\n",
      "3672/3672 [==============================] - 217s 59ms/step - loss: 1.0277 - accuracy: 0.7487 - val_loss: 1.1919 - val_accuracy: 0.7063\n",
      "Epoch 5/5\n",
      "3672/3672 [==============================] - 217s 59ms/step - loss: 0.9614 - accuracy: 0.7635 - val_loss: 1.1492 - val_accuracy: 0.7174\n",
      "=============================================================================\n",
      "{'optimizer': 'Adagrad', 'kernel_initializer': 'normal', 'activation': 'tanh'}\n",
      "Epoch 1/5\n",
      "3672/3672 [==============================] - 230s 62ms/step - loss: 2.1553 - accuracy: 0.5074 - val_loss: 1.8674 - val_accuracy: 0.5609\n",
      "Epoch 2/5\n",
      "3672/3672 [==============================] - 227s 62ms/step - loss: 1.5050 - accuracy: 0.6947 - val_loss: 1.5410 - val_accuracy: 0.6147\n",
      "Epoch 3/5\n",
      "3672/3672 [==============================] - 227s 62ms/step - loss: 1.2625 - accuracy: 0.7366 - val_loss: 1.3639 - val_accuracy: 0.6512\n",
      "Epoch 4/5\n",
      "3672/3672 [==============================] - 227s 62ms/step - loss: 1.1151 - accuracy: 0.7558 - val_loss: 1.2468 - val_accuracy: 0.6757\n",
      "Epoch 5/5\n",
      "3672/3672 [==============================] - 228s 62ms/step - loss: 1.0152 - accuracy: 0.7677 - val_loss: 1.1592 - val_accuracy: 0.6954\n",
      "=============================================================================\n",
      "{'optimizer': 'Adagrad', 'kernel_initializer': 'uniform', 'activation': 'tanh'}\n",
      "Epoch 1/5\n",
      "3672/3672 [==============================] - 227s 61ms/step - loss: 1.8148 - accuracy: 0.6251 - val_loss: 1.5269 - val_accuracy: 0.6343\n",
      "Epoch 2/5\n",
      "3672/3672 [==============================] - 224s 61ms/step - loss: 1.1643 - accuracy: 0.7560 - val_loss: 1.3367 - val_accuracy: 0.6814\n",
      "Epoch 3/5\n",
      "3672/3672 [==============================] - 224s 61ms/step - loss: 0.9560 - accuracy: 0.7795 - val_loss: 1.3119 - val_accuracy: 0.7018\n",
      "Epoch 4/5\n",
      "3672/3672 [==============================] - 225s 61ms/step - loss: 0.8437 - accuracy: 0.7955 - val_loss: 1.2411 - val_accuracy: 0.7106\n",
      "Epoch 5/5\n",
      "3672/3672 [==============================] - 227s 62ms/step - loss: 0.7730 - accuracy: 0.8083 - val_loss: 1.1311 - val_accuracy: 0.7238\n",
      "=============================================================================\n",
      "{'optimizer': 'Nadam', 'kernel_initializer': 'normal', 'activation': 'relu'}\n",
      "Epoch 1/5\n",
      "3672/3672 [==============================] - 227s 61ms/step - loss: 0.3522 - accuracy: 0.9061 - val_loss: 0.2197 - val_accuracy: 0.9277\n",
      "Epoch 2/5\n",
      "3672/3672 [==============================] - 221s 60ms/step - loss: 0.1084 - accuracy: 0.9673 - val_loss: 0.5953 - val_accuracy: 0.8085\n",
      "Epoch 3/5\n",
      "3672/3672 [==============================] - 225s 61ms/step - loss: 0.0802 - accuracy: 0.9754 - val_loss: 0.1126 - val_accuracy: 0.9661\n",
      "Epoch 4/5\n",
      "3672/3672 [==============================] - 224s 61ms/step - loss: 0.0681 - accuracy: 0.9791 - val_loss: 1.5827 - val_accuracy: 0.8011\n",
      "Epoch 5/5\n",
      "3672/3672 [==============================] - 225s 61ms/step - loss: 0.0609 - accuracy: 0.9812 - val_loss: 0.9256 - val_accuracy: 0.7709\n",
      "=============================================================================\n",
      "{'optimizer': 'Nadam', 'kernel_initializer': 'uniform', 'activation': 'relu'}\n",
      "Epoch 1/5\n",
      "3672/3672 [==============================] - 226s 61ms/step - loss: 0.3124 - accuracy: 0.9181 - val_loss: 3.5679 - val_accuracy: 0.4124\n",
      "Epoch 2/5\n",
      "3672/3672 [==============================] - 222s 60ms/step - loss: 0.1008 - accuracy: 0.9690 - val_loss: 3.6863 - val_accuracy: 0.3070\n",
      "Epoch 3/5\n",
      "3672/3672 [==============================] - 222s 60ms/step - loss: 0.0799 - accuracy: 0.9752 - val_loss: 0.0989 - val_accuracy: 0.9708\n",
      "Epoch 4/5\n",
      "3672/3672 [==============================] - 222s 60ms/step - loss: 0.0693 - accuracy: 0.9781 - val_loss: 0.0583 - val_accuracy: 0.9823\n",
      "Epoch 5/5\n",
      "3672/3672 [==============================] - 222s 60ms/step - loss: 0.0608 - accuracy: 0.9808 - val_loss: 0.1198 - val_accuracy: 0.9677\n",
      "=============================================================================\n",
      "{'optimizer': 'Nadam', 'kernel_initializer': 'normal', 'activation': 'linear'}\n",
      "Epoch 1/5\n",
      "3672/3672 [==============================] - 228s 61ms/step - loss: 0.6298 - accuracy: 0.8269 - val_loss: 1.8570 - val_accuracy: 0.7247\n",
      "Epoch 2/5\n",
      "3672/3672 [==============================] - 223s 61ms/step - loss: 0.2727 - accuracy: 0.9164 - val_loss: 0.2515 - val_accuracy: 0.9189\n",
      "Epoch 3/5\n",
      "3672/3672 [==============================] - 222s 61ms/step - loss: 0.1923 - accuracy: 0.9406 - val_loss: 1.6546 - val_accuracy: 0.5953\n",
      "Epoch 4/5\n",
      "3672/3672 [==============================] - 222s 60ms/step - loss: 0.1584 - accuracy: 0.9493 - val_loss: 0.2664 - val_accuracy: 0.9112\n",
      "Epoch 5/5\n",
      "3672/3672 [==============================] - 222s 61ms/step - loss: 0.1404 - accuracy: 0.9557 - val_loss: 0.4588 - val_accuracy: 0.8553\n",
      "=============================================================================\n",
      "{'optimizer': 'Nadam', 'kernel_initializer': 'uniform', 'activation': 'linear'}\n",
      "Epoch 1/5\n",
      "3672/3672 [==============================] - 223s 60ms/step - loss: 0.5808 - accuracy: 0.8397 - val_loss: 0.5317 - val_accuracy: 0.8275\n",
      "Epoch 2/5\n",
      "3672/3672 [==============================] - 218s 59ms/step - loss: 0.2476 - accuracy: 0.9245 - val_loss: 0.5833 - val_accuracy: 0.8150\n",
      "Epoch 3/5\n",
      "3672/3672 [==============================] - 217s 59ms/step - loss: 0.1781 - accuracy: 0.9448 - val_loss: 0.9358 - val_accuracy: 0.7401\n",
      "Epoch 4/5\n",
      "3672/3672 [==============================] - 218s 59ms/step - loss: 0.1479 - accuracy: 0.9540 - val_loss: 0.1965 - val_accuracy: 0.9375\n",
      "Epoch 5/5\n",
      "3672/3672 [==============================] - 218s 59ms/step - loss: 0.1294 - accuracy: 0.9590 - val_loss: 0.2509 - val_accuracy: 0.9285\n",
      "=============================================================================\n",
      "{'optimizer': 'Nadam', 'kernel_initializer': 'normal', 'activation': 'tanh'}\n",
      "Epoch 1/5\n",
      "3672/3672 [==============================] - 233s 63ms/step - loss: 0.5242 - accuracy: 0.8619 - val_loss: 3.1033 - val_accuracy: 0.4108\n",
      "Epoch 2/5\n",
      "3672/3672 [==============================] - 228s 62ms/step - loss: 0.1949 - accuracy: 0.9405 - val_loss: 21.4295 - val_accuracy: 0.1177\n",
      "Epoch 3/5\n",
      "3672/3672 [==============================] - 228s 62ms/step - loss: 0.1576 - accuracy: 0.9518 - val_loss: 8.3366 - val_accuracy: 0.2638\n",
      "Epoch 4/5\n",
      "3672/3672 [==============================] - 228s 62ms/step - loss: 0.1386 - accuracy: 0.9565 - val_loss: 7.6869 - val_accuracy: 0.2734\n",
      "Epoch 5/5\n",
      "3672/3672 [==============================] - 228s 62ms/step - loss: 0.1262 - accuracy: 0.9595 - val_loss: 1.3119 - val_accuracy: 0.7497\n",
      "=============================================================================\n",
      "{'optimizer': 'Nadam', 'kernel_initializer': 'uniform', 'activation': 'tanh'}\n",
      "Epoch 1/5\n",
      "3672/3672 [==============================] - 246s 66ms/step - loss: 0.4199 - accuracy: 0.8885 - val_loss: 5.0621 - val_accuracy: 0.1729\n",
      "Epoch 2/5\n",
      "3672/3672 [==============================] - 238s 65ms/step - loss: 0.1593 - accuracy: 0.9518 - val_loss: 3.0263 - val_accuracy: 0.4882\n",
      "Epoch 3/5\n",
      "3672/3672 [==============================] - 237s 65ms/step - loss: 0.1357 - accuracy: 0.9575 - val_loss: 1.3332 - val_accuracy: 0.6862\n",
      "Epoch 4/5\n",
      "3672/3672 [==============================] - 236s 64ms/step - loss: 0.1232 - accuracy: 0.9618 - val_loss: 0.3556 - val_accuracy: 0.8936\n",
      "Epoch 5/5\n",
      "3672/3672 [==============================] - 237s 65ms/step - loss: 0.1119 - accuracy: 0.9650 - val_loss: 0.7660 - val_accuracy: 0.7721\n",
      "=============================================================================\n"
     ]
    }
   ],
   "source": [
    "epochs = 5\n",
    "batch_size = 20 # 20 divides the training data samples\n",
    "\n",
    "#creating the models with different hyperparameters\n",
    "for a,b,c in [(x,y,z) for x in optimizer for z in activation for y in kernel_initializer]:\n",
    "    params = {'optimizer' : a , 'kernel_initializer' : b , 'activation' : c}\n",
    "    print(params)\n",
    "    curr_model = create_model(a, b, c)\n",
    "    curr_model.fit(training_data_images, training_data_labels, \n",
    "                    validation_data=(testing_data_images, testing_data_labels),\n",
    "                    epochs=epochs, batch_size=batch_size, verbose=1)\n",
    "    print(\"=============================================================================\")"
   ]
  },
  {
   "cell_type": "markdown",
   "metadata": {
    "colab_type": "text",
    "id": "TgVoF_U9ifx0"
   },
   "source": [
    "**From the above results we can see that best parameters are:**\n",
    "* **Optimizer: Adam**\n",
    "* **Kernel_initializer: uniform**\n",
    "* **Activation: relu** "
   ]
  },
  {
   "cell_type": "markdown",
   "metadata": {
    "colab_type": "text",
    "id": "Nt9JJvWzjKpf"
   },
   "source": [
    "Let's create the model with the best parameters obtained."
   ]
  },
  {
   "cell_type": "code",
   "execution_count": 35,
   "metadata": {
    "colab": {},
    "colab_type": "code",
    "id": "TQ61tTgthNX3"
   },
   "outputs": [],
   "source": [
    "model = create_model(optimizer='Adam', kernel_initializer='uniform', activation='relu')"
   ]
  },
  {
   "cell_type": "markdown",
   "metadata": {
    "colab_type": "text",
    "id": "SAyJLJOsJdKY"
   },
   "source": [
    "### 4. Training the Model"
   ]
  },
  {
   "cell_type": "markdown",
   "metadata": {
    "colab_type": "text",
    "id": "9REBW24cmdKI"
   },
   "source": [
    "#### Fitting the Model"
   ]
  },
  {
   "cell_type": "markdown",
   "metadata": {
    "colab_type": "text",
    "id": "i8GiTDtRkZTp"
   },
   "source": [
    "Train the model using batch_size=20 to reduce used memory and make the training more quick.\n",
    "We will train the model first on 10 epochs to see the accuracy that we will obtain."
   ]
  },
  {
   "cell_type": "code",
   "execution_count": 36,
   "metadata": {
    "colab": {
     "base_uri": "https://localhost:8080/",
     "height": 734
    },
    "colab_type": "code",
    "collapsed": true,
    "id": "fOtKJTQ51qC5",
    "outputId": "7cad5b4b-6c0d-467a-d3e8-b39cf0fb08a9"
   },
   "outputs": [
    {
     "name": "stdout",
     "output_type": "stream",
     "text": [
      "Epoch 1/10\n",
      "3672/3672 [==============================] - ETA: 0s - loss: 0.3099 - accuracy: 0.9173\n",
      "Epoch 1: val_loss improved from inf to 2.90024, saving model to weights.hdf5\n",
      "3672/3672 [==============================] - 231s 63ms/step - loss: 0.3099 - accuracy: 0.9173 - val_loss: 2.9002 - val_accuracy: 0.3743\n",
      "Epoch 2/10\n",
      "3672/3672 [==============================] - ETA: 0s - loss: 0.1003 - accuracy: 0.9700\n",
      "Epoch 2: val_loss improved from 2.90024 to 1.40387, saving model to weights.hdf5\n",
      "3672/3672 [==============================] - 226s 62ms/step - loss: 0.1003 - accuracy: 0.9700 - val_loss: 1.4039 - val_accuracy: 0.6069\n",
      "Epoch 3/10\n",
      "3672/3672 [==============================] - ETA: 0s - loss: 0.0775 - accuracy: 0.9761\n",
      "Epoch 3: val_loss did not improve from 1.40387\n",
      "3672/3672 [==============================] - 226s 61ms/step - loss: 0.0775 - accuracy: 0.9761 - val_loss: 1.5545 - val_accuracy: 0.5445\n",
      "Epoch 4/10\n",
      "3672/3672 [==============================] - ETA: 0s - loss: 0.0672 - accuracy: 0.9791\n",
      "Epoch 4: val_loss improved from 1.40387 to 0.14949, saving model to weights.hdf5\n",
      "3672/3672 [==============================] - 226s 61ms/step - loss: 0.0672 - accuracy: 0.9791 - val_loss: 0.1495 - val_accuracy: 0.9551\n",
      "Epoch 5/10\n",
      "3672/3672 [==============================] - ETA: 0s - loss: 0.0565 - accuracy: 0.9824\n",
      "Epoch 5: val_loss improved from 0.14949 to 0.09022, saving model to weights.hdf5\n",
      "3672/3672 [==============================] - 226s 62ms/step - loss: 0.0565 - accuracy: 0.9824 - val_loss: 0.0902 - val_accuracy: 0.9723\n",
      "Epoch 6/10\n",
      "3672/3672 [==============================] - ETA: 0s - loss: 0.0529 - accuracy: 0.9836\n",
      "Epoch 6: val_loss improved from 0.09022 to 0.07763, saving model to weights.hdf5\n",
      "3672/3672 [==============================] - 226s 61ms/step - loss: 0.0529 - accuracy: 0.9836 - val_loss: 0.0776 - val_accuracy: 0.9777\n",
      "Epoch 7/10\n",
      "3672/3672 [==============================] - ETA: 0s - loss: 0.0506 - accuracy: 0.9842\n",
      "Epoch 7: val_loss did not improve from 0.07763\n",
      "3672/3672 [==============================] - 225s 61ms/step - loss: 0.0506 - accuracy: 0.9842 - val_loss: 0.2641 - val_accuracy: 0.9124\n",
      "Epoch 8/10\n",
      "3672/3672 [==============================] - ETA: 0s - loss: 0.0460 - accuracy: 0.9856\n",
      "Epoch 8: val_loss did not improve from 0.07763\n",
      "3672/3672 [==============================] - 226s 61ms/step - loss: 0.0460 - accuracy: 0.9856 - val_loss: 0.0867 - val_accuracy: 0.9740\n",
      "Epoch 9/10\n",
      "3672/3672 [==============================] - ETA: 0s - loss: 0.0418 - accuracy: 0.9866\n",
      "Epoch 9: val_loss improved from 0.07763 to 0.05882, saving model to weights.hdf5\n",
      "3672/3672 [==============================] - 2092s 570ms/step - loss: 0.0418 - accuracy: 0.9866 - val_loss: 0.0588 - val_accuracy: 0.9826\n",
      "Epoch 10/10\n",
      "3672/3672 [==============================] - ETA: 0s - loss: 0.0405 - accuracy: 0.9871\n",
      "Epoch 10: val_loss did not improve from 0.05882\n",
      "3672/3672 [==============================] - 346s 94ms/step - loss: 0.0405 - accuracy: 0.9871 - val_loss: 0.0700 - val_accuracy: 0.9802\n"
     ]
    }
   ],
   "source": [
    "from keras.callbacks import ModelCheckpoint  \n",
    "\n",
    "# using checkpoints to save model weights to be used later instead of training again on the same epochs.\n",
    "checkpointer = ModelCheckpoint(filepath='weights.hdf5', verbose=1, save_best_only=True)\n",
    "history = model.fit(training_data_images, training_data_labels, \n",
    "                    validation_data=(testing_data_images, testing_data_labels),\n",
    "                    epochs=10, batch_size=20, verbose=1, callbacks=[checkpointer])"
   ]
  },
  {
   "cell_type": "markdown",
   "metadata": {
    "colab_type": "text",
    "id": "etE1oULFCnSn"
   },
   "source": [
    "#### Plotting Loss and Accuracy Curves with Epochs"
   ]
  },
  {
   "cell_type": "code",
   "execution_count": 40,
   "metadata": {
    "colab": {},
    "colab_type": "code",
    "id": "ZWyxaeKxCn9O"
   },
   "outputs": [],
   "source": [
    "import matplotlib.pyplot as plt\n",
    "\n",
    "def plot_loss_accuracy(history):\n",
    "    # Loss Curves\n",
    "    plt.figure(figsize=[8,6])\n",
    "    plt.plot(history.history['loss'],'r',linewidth=3.0)\n",
    "    plt.plot(history.history['val_loss'],'b',linewidth=3.0)\n",
    "    plt.legend(['Training loss', 'Validation Loss'],fontsize=18)\n",
    "    plt.xlabel('Epochs ',fontsize=16)\n",
    "    plt.ylabel('Loss',fontsize=16)\n",
    "    plt.title('Loss Curves',fontsize=16)\n",
    "    \n",
    "    # Accuracy Curves\n",
    "    plt.figure(figsize=[8,6])\n",
    "    plt.plot(history.history['accuracy'],'r',linewidth=3.0)\n",
    "    plt.plot(history.history['val_accuracy'],'b',linewidth=3.0)\n",
    "    plt.legend(['Training Accuracy', 'Validation Accuracy'],fontsize=18)\n",
    "    plt.xlabel('Epochs ',fontsize=16)\n",
    "    plt.ylabel('Accuracy',fontsize=16)\n",
    "    plt.title('Accuracy Curves',fontsize=16)"
   ]
  },
  {
   "cell_type": "code",
   "execution_count": 41,
   "metadata": {
    "colab": {
     "base_uri": "https://localhost:8080/",
     "height": 805
    },
    "colab_type": "code",
    "collapsed": true,
    "id": "LE9WKyG7GNSs",
    "outputId": "d610c15c-18ac-428c-9193-40a87bccce15"
   },
   "outputs": [
    {
     "data": {
      "image/png": "[encoded data removed]",
      "text/plain": [
       "<Figure size 576x432 with 1 Axes>"
      ]
     },
     "metadata": {
      "needs_background": "light"
     },
     "output_type": "display_data"
    },
    {
     "data": {
      "image/png": "[encoded data removed]",
      "text/plain": [
       "<Figure size 576x432 with 1 Axes>"
      ]
     },
     "metadata": {
      "needs_background": "light"
     },
     "output_type": "display_data"
    }
   ],
   "source": [
    "plot_loss_accuracy(history)"
   ]
  },
  {
   "cell_type": "markdown",
   "metadata": {
    "colab_type": "text",
    "id": "p8QOKiQpmWDC"
   },
   "source": [
    "#### Load the Model with the Best Validation Loss"
   ]
  },
  {
   "cell_type": "code",
   "execution_count": 42,
   "metadata": {
    "colab": {},
    "colab_type": "code",
    "id": "OUunssvzmQUb"
   },
   "outputs": [],
   "source": [
    "model.load_weights('weights.hdf5')"
   ]
  },
  {
   "cell_type": "markdown",
   "metadata": {
    "colab_type": "text",
    "id": "Aijsry3Xmmv-"
   },
   "source": [
    "### 5. Test the Model"
   ]
  },
  {
   "cell_type": "code",
   "execution_count": 43,
   "metadata": {
    "colab": {
     "base_uri": "https://localhost:8080/",
     "height": 68
    },
    "colab_type": "code",
    "id": "8h7E8G7CsCFB",
    "outputId": "ce7d4c98-e32c-4d49-8c4d-4a7bef7f3c30"
   },
   "outputs": [
    {
     "name": "stdout",
     "output_type": "stream",
     "text": [
      "418/418 [==============================] - 16s 37ms/step - loss: 0.0588 - accuracy: 0.9826\n",
      "Test Accuracy: 0.982559859752655\n",
      "Test Loss: 0.05882362648844719\n"
     ]
    }
   ],
   "source": [
    "# Final evaluation of the model\n",
    "metrics = model.evaluate(testing_data_images, testing_data_labels, verbose=1)\n",
    "print(\"Test Accuracy: {}\".format(metrics[1]))\n",
    "print(\"Test Loss: {}\".format(metrics[0]))"
   ]
  },
  {
   "cell_type": "markdown",
   "metadata": {
    "colab_type": "text",
    "id": "Xz04uhKPnFft"
   },
   "source": [
    "**We get test accuracy of 98.286% after training on 10 epochs only.**\n",
    "\n",
    "**What about increasing the epochs we train on ?**"
   ]
  },
  {
   "cell_type": "markdown",
   "metadata": {
    "colab_type": "text",
    "id": "Rit6CswqnrEC"
   },
   "source": [
    "### 6. Training More on the best model"
   ]
  },
  {
   "cell_type": "code",
   "execution_count": 44,
   "metadata": {
    "colab": {
     "base_uri": "https://localhost:8080/",
     "height": 2202
    },
    "colab_type": "code",
    "collapsed": true,
    "id": "BZAP7VW1npA-",
    "outputId": "0fc06279-2faa-4d2b-f358-edda4c304338"
   },
   "outputs": [
    {
     "name": "stdout",
     "output_type": "stream",
     "text": [
      "Epoch 1/20\n",
      "3672/3672 [==============================] - ETA: 0s - loss: 0.0407 - accuracy: 0.9871\n",
      "Epoch 1: val_loss improved from inf to 0.09027, saving model to weights.hdf5\n",
      "3672/3672 [==============================] - 350s 95ms/step - loss: 0.0407 - accuracy: 0.9871 - val_loss: 0.0903 - val_accuracy: 0.9762\n",
      "Epoch 2/20\n",
      "3672/3672 [==============================] - ETA: 0s - loss: 0.0383 - accuracy: 0.9878\n",
      "Epoch 2: val_loss did not improve from 0.09027\n",
      "3672/3672 [==============================] - 349s 95ms/step - loss: 0.0383 - accuracy: 0.9878 - val_loss: 0.7659 - val_accuracy: 0.7564\n",
      "Epoch 3/20\n",
      "3672/3672 [==============================] - ETA: 0s - loss: 0.0367 - accuracy: 0.9881\n",
      "Epoch 3: val_loss did not improve from 0.09027\n",
      "3672/3672 [==============================] - 349s 95ms/step - loss: 0.0367 - accuracy: 0.9881 - val_loss: 0.2435 - val_accuracy: 0.9152\n",
      "Epoch 4/20\n",
      "3672/3672 [==============================] - ETA: 0s - loss: 0.0351 - accuracy: 0.9889\n",
      "Epoch 4: val_loss did not improve from 0.09027\n",
      "3672/3672 [==============================] - 350s 95ms/step - loss: 0.0351 - accuracy: 0.9889 - val_loss: 0.1822 - val_accuracy: 0.9459\n",
      "Epoch 5/20\n",
      "3672/3672 [==============================] - ETA: 0s - loss: 0.0344 - accuracy: 0.9888\n",
      "Epoch 5: val_loss did not improve from 0.09027\n",
      "3672/3672 [==============================] - 350s 95ms/step - loss: 0.0344 - accuracy: 0.9888 - val_loss: 0.0938 - val_accuracy: 0.9723\n",
      "Epoch 6/20\n",
      "3672/3672 [==============================] - ETA: 0s - loss: 0.0342 - accuracy: 0.9889\n",
      "Epoch 6: val_loss improved from 0.09027 to 0.05966, saving model to weights.hdf5\n",
      "3672/3672 [==============================] - 349s 95ms/step - loss: 0.0342 - accuracy: 0.9889 - val_loss: 0.0597 - val_accuracy: 0.9840\n",
      "Epoch 7/20\n",
      "3672/3672 [==============================] - ETA: 0s - loss: 0.0325 - accuracy: 0.9892\n",
      "Epoch 7: val_loss improved from 0.05966 to 0.04844, saving model to weights.hdf5\n",
      "3672/3672 [==============================] - 349s 95ms/step - loss: 0.0325 - accuracy: 0.9892 - val_loss: 0.0484 - val_accuracy: 0.9871\n",
      "Epoch 8/20\n",
      "3672/3672 [==============================] - ETA: 0s - loss: 0.0309 - accuracy: 0.9897\n",
      "Epoch 8: val_loss improved from 0.04844 to 0.04810, saving model to weights.hdf5\n",
      "3672/3672 [==============================] - 348s 95ms/step - loss: 0.0309 - accuracy: 0.9897 - val_loss: 0.0481 - val_accuracy: 0.9873\n",
      "Epoch 9/20\n",
      "3672/3672 [==============================] - ETA: 0s - loss: 0.0290 - accuracy: 0.9909\n",
      "Epoch 9: val_loss did not improve from 0.04810\n",
      "3672/3672 [==============================] - 352s 96ms/step - loss: 0.0290 - accuracy: 0.9909 - val_loss: 0.0871 - val_accuracy: 0.9761\n",
      "Epoch 10/20\n",
      "3672/3672 [==============================] - ETA: 0s - loss: 0.0300 - accuracy: 0.9901\n",
      "Epoch 10: val_loss did not improve from 0.04810\n",
      "3672/3672 [==============================] - 351s 96ms/step - loss: 0.0300 - accuracy: 0.9901 - val_loss: 0.0578 - val_accuracy: 0.9844\n",
      "Epoch 11/20\n",
      "3672/3672 [==============================] - ETA: 0s - loss: 0.0291 - accuracy: 0.9909\n",
      "Epoch 11: val_loss did not improve from 0.04810\n",
      "3672/3672 [==============================] - 348s 95ms/step - loss: 0.0291 - accuracy: 0.9909 - val_loss: 0.0487 - val_accuracy: 0.9867\n",
      "Epoch 12/20\n",
      "3672/3672 [==============================] - ETA: 0s - loss: 0.0284 - accuracy: 0.9907\n",
      "Epoch 12: val_loss did not improve from 0.04810\n",
      "3672/3672 [==============================] - 352s 96ms/step - loss: 0.0284 - accuracy: 0.9907 - val_loss: 0.0615 - val_accuracy: 0.9820\n",
      "Epoch 13/20\n",
      "3672/3672 [==============================] - ETA: 0s - loss: 0.0264 - accuracy: 0.9908\n",
      "Epoch 13: val_loss did not improve from 0.04810\n",
      "3672/3672 [==============================] - 351s 95ms/step - loss: 0.0264 - accuracy: 0.9908 - val_loss: 0.0522 - val_accuracy: 0.9846\n",
      "Epoch 14/20\n",
      "3672/3672 [==============================] - ETA: 0s - loss: 0.0264 - accuracy: 0.9914\n",
      "Epoch 14: val_loss improved from 0.04810 to 0.04095, saving model to weights.hdf5\n",
      "3672/3672 [==============================] - 352s 96ms/step - loss: 0.0264 - accuracy: 0.9914 - val_loss: 0.0409 - val_accuracy: 0.9894\n",
      "Epoch 15/20\n",
      "3672/3672 [==============================] - ETA: 0s - loss: 0.0265 - accuracy: 0.9914\n",
      "Epoch 15: val_loss did not improve from 0.04095\n",
      "3672/3672 [==============================] - 353s 96ms/step - loss: 0.0265 - accuracy: 0.9914 - val_loss: 0.4704 - val_accuracy: 0.8100\n",
      "Epoch 16/20\n",
      "3672/3672 [==============================] - ETA: 0s - loss: 0.0237 - accuracy: 0.9922\n",
      "Epoch 16: val_loss did not improve from 0.04095\n",
      "3672/3672 [==============================] - 351s 96ms/step - loss: 0.0237 - accuracy: 0.9922 - val_loss: 0.0501 - val_accuracy: 0.9851\n",
      "Epoch 17/20\n",
      "3672/3672 [==============================] - ETA: 0s - loss: 0.0262 - accuracy: 0.9909\n",
      "Epoch 17: val_loss did not improve from 0.04095\n",
      "3672/3672 [==============================] - 353s 96ms/step - loss: 0.0262 - accuracy: 0.9909 - val_loss: 0.0442 - val_accuracy: 0.9883\n",
      "Epoch 18/20\n",
      "3672/3672 [==============================] - ETA: 0s - loss: 0.0241 - accuracy: 0.9921\n",
      "Epoch 18: val_loss did not improve from 0.04095\n",
      "3672/3672 [==============================] - 352s 96ms/step - loss: 0.0241 - accuracy: 0.9921 - val_loss: 0.0465 - val_accuracy: 0.9876\n",
      "Epoch 19/20\n",
      "3672/3672 [==============================] - ETA: 0s - loss: 0.0247 - accuracy: 0.9918\n",
      "Epoch 19: val_loss did not improve from 0.04095\n",
      "3672/3672 [==============================] - 351s 95ms/step - loss: 0.0247 - accuracy: 0.9918 - val_loss: 0.0631 - val_accuracy: 0.9824\n",
      "Epoch 20/20\n",
      "3672/3672 [==============================] - ETA: 0s - loss: 0.0245 - accuracy: 0.9920\n",
      "Epoch 20: val_loss did not improve from 0.04095\n",
      "3672/3672 [==============================] - 349s 95ms/step - loss: 0.0245 - accuracy: 0.9920 - val_loss: 0.0413 - val_accuracy: 0.9885\n"
     ]
    },
    {
     "data": {
      "image/png": "[encoded data removed]",
      "text/plain": [
       "<Figure size 576x432 with 1 Axes>"
      ]
     },
     "metadata": {
      "needs_background": "light"
     },
     "output_type": "display_data"
    },
    {
     "data": {
      "image/png": "[encoded data removed]",
      "text/plain": [
       "<Figure size 576x432 with 1 Axes>"
      ]
     },
     "metadata": {
      "needs_background": "light"
     },
     "output_type": "display_data"
    }
   ],
   "source": [
    "epochs = 20\n",
    "batch_size = 20\n",
    "\n",
    "checkpointer = ModelCheckpoint(filepath='weights.hdf5', verbose=1, save_best_only=True)\n",
    "\n",
    "history = model.fit(training_data_images, training_data_labels, \n",
    "                    validation_data=(testing_data_images, testing_data_labels),\n",
    "                    epochs=epochs, batch_size=batch_size, verbose=1, callbacks=[checkpointer])\n",
    "          \n",
    "model.load_weights('weights.hdf5')\n",
    "plot_loss_accuracy(history)"
   ]
  },
  {
   "cell_type": "code",
   "execution_count": 45,
   "metadata": {
    "colab": {
     "base_uri": "https://localhost:8080/",
     "height": 805
    },
    "colab_type": "code",
    "collapsed": true,
    "id": "c8GWs-8bNsxR",
    "outputId": "acef3123-a33c-49bc-f759-5ce10a9d50a7"
   },
   "outputs": [
    {
     "data": {
      "image/png": "[encoded data removed]",
      "text/plain": [
       "<Figure size 576x432 with 1 Axes>"
      ]
     },
     "metadata": {
      "needs_background": "light"
     },
     "output_type": "display_data"
    },
    {
     "data": {
      "image/png": "[encoded data removed]",
      "text/plain": [
       "<Figure size 576x432 with 1 Axes>"
      ]
     },
     "metadata": {
      "needs_background": "light"
     },
     "output_type": "display_data"
    }
   ],
   "source": [
    "plot_loss_accuracy(history)"
   ]
  },
  {
   "cell_type": "markdown",
   "metadata": {
    "colab_type": "text",
    "id": "RC6yRcCHoMa7"
   },
   "source": [
    "### 7. Testing the Model again"
   ]
  },
  {
   "cell_type": "code",
   "execution_count": 46,
   "metadata": {
    "colab": {
     "base_uri": "https://localhost:8080/",
     "height": 68
    },
    "colab_type": "code",
    "id": "Bm5y2MgXoP3F",
    "outputId": "4c262179-d450-4c3e-e621-a86814f8caa7"
   },
   "outputs": [
    {
     "name": "stdout",
     "output_type": "stream",
     "text": [
      "418/418 [==============================] - 16s 37ms/step - loss: 0.0409 - accuracy: 0.9894\n",
      "Test Accuracy: 0.9893712401390076\n",
      "Test Loss: 0.04094835743308067\n"
     ]
    }
   ],
   "source": [
    "# Final evaluation of the model\n",
    "metrics = model.evaluate(testing_data_images, testing_data_labels, verbose=1)\n",
    "print(\"Test Accuracy: {}\".format(metrics[1]))\n",
    "print(\"Test Loss: {}\".format(metrics[0]))"
   ]
  },
  {
   "cell_type": "markdown",
   "metadata": {
    "colab_type": "text",
    "id": "3cVhqFs8oYwz"
   },
   "source": [
    "After training the model on more epochs we gained a better model which can classify complex patterns . So when we tested it on our test dataset we had better results than before.\n",
    "\n",
    "**Test accuracy is improved from 98.286% to 98.862% As we train the model on 20 more epochs.**\n",
    "\n"
   ]
  },
  {
   "cell_type": "markdown",
   "metadata": {
    "colab_type": "text",
    "id": "RUes2bqFqycc"
   },
   "source": [
    "### 8. Saving the Final Model"
   ]
  },
  {
   "cell_type": "markdown",
   "metadata": {
    "colab_type": "text",
    "id": "dA6vbYZKp0bB"
   },
   "source": [
    "Let's save the model on json format to be used later instead of creating the model again from scratch."
   ]
  },
  {
   "cell_type": "code",
   "execution_count": 55,
   "metadata": {
    "colab": {},
    "colab_type": "code",
    "id": "ZtanngD4oPgv"
   },
   "outputs": [],
   "source": [
    "from keras.models import model_from_json"
   ]
  },
  {
   "cell_type": "code",
   "execution_count": 49,
   "metadata": {
    "colab": {},
    "colab_type": "code",
    "id": "EVsTrDhop_XA"
   },
   "outputs": [],
   "source": [
    "model_json = model.to_json()\n",
    "with open(\"model.json\", \"w\") as json_file:\n",
    "    json_file.write(model_json)"
   ]
  },
  {
   "cell_type": "markdown",
   "metadata": {
    "colab_type": "text",
    "id": "ozgwPPrArhoY"
   },
   "source": [
    "Save the model weights to file."
   ]
  },
  {
   "cell_type": "code",
   "execution_count": 50,
   "metadata": {
    "colab": {
     "base_uri": "https://localhost:8080/",
     "height": 34
    },
    "colab_type": "code",
    "id": "jAVASfDAo_lN",
    "outputId": "efc9bb9b-444a-4191-a15f-9fed644fef7f"
   },
   "outputs": [
    {
     "name": "stdout",
     "output_type": "stream",
     "text": [
      "Saved model to disk\n"
     ]
    }
   ],
   "source": [
    "# serialize weights to HDF5\n",
    "model.save_weights(\"model.h5\")\n",
    "print(\"Saved model to disk\")"
   ]
  },
  {
   "cell_type": "markdown",
   "metadata": {
    "colab_type": "text",
    "id": "xv1bAB-ur15m"
   },
   "source": [
    "if we want to load the model with the last obtained weights at anytime, we will run the following code cell."
   ]
  },
  {
   "cell_type": "code",
   "execution_count": 57,
   "metadata": {
    "colab": {
     "base_uri": "https://localhost:8080/",
     "height": 34
    },
    "colab_type": "code",
    "id": "xD9ogMjqsCvJ",
    "outputId": "de36a321-39bd-41fc-df6a-895f579646a9"
   },
   "outputs": [
    {
     "name": "stdout",
     "output_type": "stream",
     "text": [
      "Loaded model from disk\n"
     ]
    }
   ],
   "source": [
    "# load json and create model\n",
    "json_file = open('model.json', 'r')\n",
    "loaded_model_json = json_file.read()\n",
    "json_file.close()\n",
    "loaded_model = model_from_json(loaded_model_json)\n",
    "# load weights into new model\n",
    "loaded_model.load_weights(\"model.h5\")\n",
    "print(\"Loaded model from disk\")\n",
    " \n",
    "# compile the loaded model\n",
    "loaded_model.compile(loss='binary_crossentropy', optimizer='Adam', metrics=['accuracy'])"
   ]
  },
  {
   "cell_type": "markdown",
   "metadata": {
    "colab_type": "text",
    "id": "VKGKogPCMhZM"
   },
   "source": [
    "# IV. Predict Image Classes"
   ]
  },
  {
   "cell_type": "markdown",
   "metadata": {
    "colab_type": "text",
    "id": "_TEpbiLtEtaW"
   },
   "source": [
    "Making a method which takes a model, data and its true labels (optional for using in testing). Then it gives the predicted classes of the given data using the given model."
   ]
  },
  {
   "cell_type": "code",
   "execution_count": 60,
   "metadata": {
    "colab": {},
    "colab_type": "code",
    "id": "dXQEPxpGBJao"
   },
   "outputs": [],
   "source": [
    "def get_predicted_classes(model, data, labels=None):\n",
    "    image_predictions = model.predict(data)\n",
    "    predicted_classes = np.argmax(image_predictions, axis=1)\n",
    "    true_classes = np.argmax(labels, axis=1)\n",
    "    return predicted_classes, true_classes"
   ]
  },
  {
   "cell_type": "markdown",
   "metadata": {
    "colab_type": "text",
    "id": "mA_tBIt3A3xr"
   },
   "source": [
    "### Evaluation Metrics"
   ]
  },
  {
   "cell_type": "markdown",
   "metadata": {
    "colab_type": "text",
    "id": "LSPG55usTdyZ"
   },
   "source": [
    "Making a method which will print all metrics (precision, recall, f1-score and support) with each class in the dataset."
   ]
  },
  {
   "cell_type": "code",
   "execution_count": 61,
   "metadata": {
    "colab": {},
    "colab_type": "code",
    "id": "rS1nOxCQSImh"
   },
   "outputs": [],
   "source": [
    "from sklearn.metrics import classification_report\n",
    "\n",
    "def get_classification_report(y_true, y_pred):\n",
    "    print(classification_report(y_true, y_pred))"
   ]
  },
  {
   "cell_type": "markdown",
   "metadata": {
    "colab_type": "text",
    "id": "FdzM8mCUT0m1"
   },
   "source": [
    "### Evaluating Final Model using the specified metrics"
   ]
  },
  {
   "cell_type": "code",
   "execution_count": 62,
   "metadata": {
    "colab": {},
    "colab_type": "code",
    "collapsed": true,
    "id": "HgR-5MsXS0O3"
   },
   "outputs": [
    {
     "name": "stdout",
     "output_type": "stream",
     "text": [
      "418/418 [==============================] - 16s 36ms/step\n",
      "              precision    recall  f1-score   support\n",
      "\n",
      "           0       0.99      0.97      0.98      1000\n",
      "           1       0.99      1.00      0.99      1000\n",
      "           2       0.99      0.99      0.99      1000\n",
      "           3       1.00      1.00      1.00      1000\n",
      "           4       1.00      0.99      1.00      1000\n",
      "           5       0.99      0.99      0.99      1000\n",
      "           6       1.00      1.00      1.00      1000\n",
      "           7       1.00      1.00      1.00      1000\n",
      "           8       1.00      1.00      1.00      1000\n",
      "           9       1.00      0.99      1.00      1000\n",
      "          10       0.99      1.00      1.00       120\n",
      "          11       1.00      1.00      1.00       120\n",
      "          12       0.94      0.97      0.95       120\n",
      "          13       0.97      0.96      0.97       120\n",
      "          14       0.97      1.00      0.98       120\n",
      "          15       0.98      0.97      0.98       120\n",
      "          16       1.00      0.97      0.99       120\n",
      "          17       0.96      0.97      0.96       120\n",
      "          18       0.94      0.94      0.94       120\n",
      "          19       0.93      0.99      0.96       120\n",
      "          20       0.97      0.91      0.94       120\n",
      "          21       0.99      0.97      0.98       120\n",
      "          22       0.99      1.00      1.00       120\n",
      "          23       0.94      0.98      0.96       120\n",
      "          24       1.00      0.96      0.98       120\n",
      "          25       0.96      0.99      0.98       120\n",
      "          26       0.99      0.96      0.97       120\n",
      "          27       0.98      0.99      0.99       120\n",
      "          28       1.00      1.00      1.00       120\n",
      "          29       0.95      0.99      0.97       120\n",
      "          30       0.99      0.96      0.97       120\n",
      "          31       1.00      0.99      1.00       120\n",
      "          32       1.00      1.00      1.00       120\n",
      "          33       1.00      0.97      0.99       120\n",
      "          34       0.96      0.95      0.95       120\n",
      "          35       0.98      0.97      0.98       120\n",
      "          36       0.97      0.97      0.97       120\n",
      "          37       1.00      0.98      0.99       120\n",
      "\n",
      "    accuracy                           0.99     13360\n",
      "   macro avg       0.98      0.98      0.98     13360\n",
      "weighted avg       0.99      0.99      0.99     13360\n",
      "\n"
     ]
    }
   ],
   "source": [
    "y_pred, y_true = get_predicted_classes(model, testing_data_images, testing_data_labels)\n",
    "get_classification_report(y_true, y_pred)"
   ]
  },
  {
   "cell_type": "markdown",
   "metadata": {
    "colab_type": "text",
    "id": "X_Kf3t3fpvwD"
   },
   "source": [
    "# V. A Demo to see how the model works on examples of the testing data"
   ]
  },
  {
   "cell_type": "code",
   "execution_count": 65,
   "metadata": {
    "colab": {},
    "colab_type": "code",
    "id": "28J4tcx60-lO"
   },
   "outputs": [],
   "source": [
    "def get_non_zero_index_from_one_hot_encoding(one_hot_encoding):\n",
    "    non_zero_index = np.where(one_hot_encoding == 1)[0]\n",
    "    assert(len(non_zero_index) == 1)\n",
    "    non_zero_index = non_zero_index[0]\n",
    "    return non_zero_index"
   ]
  },
  {
   "cell_type": "code",
   "execution_count": 66,
   "metadata": {
    "colab": {},
    "colab_type": "code",
    "id": "xuAddVtcsCK4"
   },
   "outputs": [],
   "source": [
    "def convert_categorical_label_to_real_label(categorical_label):\n",
    "    real_labels = []\n",
    "    real_labels.extend([x for x in range(10)])\n",
    "    real_labels.extend(['أ', 'ب', 'ت', 'ث', 'ج', 'ح', 'خ', 'د', 'ذ', 'ر', 'ز', 'س', 'ش', 'ص', 'ض', 'ط', 'ظ', 'ع', 'غ', 'ف', 'ق', 'ك', 'ل', 'م', 'ن', 'ه', 'و', 'ى'])\n",
    "    return real_labels[categorical_label]"
   ]
  },
  {
   "cell_type": "code",
   "execution_count": 67,
   "metadata": {
    "colab": {},
    "colab_type": "code",
    "id": "vyyZNtjn16Be"
   },
   "outputs": [],
   "source": [
    "def show_example(sample_index):\n",
    "    y_pred, y_true = get_predicted_classes(model, testing_data_images[[sample_index]], testing_data_labels[[sample_index]])\n",
    "    non_zero_index = get_non_zero_index_from_one_hot_encoding(testing_data_labels[sample_index])\n",
    "    y_true = y_true[0]\n",
    "    y_pred = y_pred[0]\n",
    "    assert y_true == non_zero_index\n",
    "    true_label = convert_categorical_label_to_real_label(y_true)\n",
    "    predicted_label = convert_categorical_label_to_real_label(y_pred)\n",
    "    print(\"The following image has the written character '{}' but the model predicted it as '{}'\".format(true_label, predicted_label))\n",
    "    return true_label == predicted_label"
   ]
  },
  {
   "cell_type": "code",
   "execution_count": 68,
   "metadata": {
    "colab": {
     "base_uri": "https://localhost:8080/",
     "height": 98
    },
    "colab_type": "code",
    "id": "bBMKkXB6ruso",
    "outputId": "5309c76d-c266-4d35-fbb3-d0276acec7d0"
   },
   "outputs": [
    {
     "name": "stdout",
     "output_type": "stream",
     "text": [
      "1/1 [==============================] - 0s 16ms/step\n",
      "The following image has the written character '5' but the model predicted it as '5'\n"
     ]
    },
    {
     "data": {
      "image/png": "[encoded data removed]",
      "text/plain": [
       "<PIL.Image.Image image mode=L size=64x64 at 0x2598B6F5430>"
      ]
     },
     "execution_count": 68,
     "metadata": {},
     "output_type": "execute_result"
    }
   ],
   "source": [
    "sample_index = 5\n",
    "show_example(sample_index)\n",
    "convert_values_to_image(testing_digits_images.loc[sample_index], True)"
   ]
  },
  {
   "cell_type": "code",
   "execution_count": 69,
   "metadata": {
    "colab": {
     "base_uri": "https://localhost:8080/",
     "height": 98
    },
    "colab_type": "code",
    "id": "dQIeiAXi4TPh",
    "outputId": "a6005a3f-1e64-47ab-b5b8-101aefb9bc70"
   },
   "outputs": [
    {
     "name": "stdout",
     "output_type": "stream",
     "text": [
      "1/1 [==============================] - 0s 16ms/step\n",
      "The following image has the written character 'ب' but the model predicted it as 'ب'\n"
     ]
    },
    {
     "data": {
      "image/png": "[encoded data removed]",
      "text/plain": [
       "<PIL.Image.Image image mode=L size=64x64 at 0x2597F8C20D0>"
      ]
     },
     "execution_count": 69,
     "metadata": {},
     "output_type": "execute_result"
    }
   ],
   "source": [
    "sample_index = 10002\n",
    "show_example(sample_index)\n",
    "convert_values_to_image(testing_letters_images.loc[sample_index - testing_digits_images.shape[0]], True)"
   ]
  },
  {
   "cell_type": "code",
   "execution_count": 70,
   "metadata": {
    "colab": {
     "base_uri": "https://localhost:8080/",
     "height": 98
    },
    "colab_type": "code",
    "id": "o5KU-tgO5bIt",
    "outputId": "e8fd2100-61bf-44e2-ef27-636d1cc0e102"
   },
   "outputs": [
    {
     "name": "stdout",
     "output_type": "stream",
     "text": [
      "1/1 [==============================] - 0s 40ms/step\n",
      "The following image has the written character 'د' but the model predicted it as 'د'\n"
     ]
    },
    {
     "data": {
      "image/png": "[encoded data removed]",
      "text/plain": [
       "<PIL.Image.Image image mode=L size=64x64 at 0x2599BF88E20>"
      ]
     },
     "execution_count": 70,
     "metadata": {},
     "output_type": "execute_result"
    }
   ],
   "source": [
    "sample_index = 11414\n",
    "show_example(sample_index)\n",
    "convert_values_to_image(testing_letters_images.loc[sample_index - testing_digits_images.shape[0]], True)"
   ]
  }
 ],
 "metadata": {
  "accelerator": "GPU",
  "colab": {
   "collapsed_sections": [],
   "name": "Copy of Arabic Handwritten Recognition.ipynb",
   "provenance": [],
   "toc_visible": true
  },
  "kernelspec": {
   "display_name": "Python 3 (ipykernel)",
   "language": "python",
   "name": "python3"
  },
  "language_info": {
   "codemirror_mode": {
    "name": "ipython",
    "version": 3
   },
   "file_extension": ".py",
   "mimetype": "text/x-python",
   "name": "python",
   "nbconvert_exporter": "python",
   "pygments_lexer": "ipython3",
   "version": "3.9.12"
  }
 },
 "nbformat": 4,
 "nbformat_minor": 1
}
